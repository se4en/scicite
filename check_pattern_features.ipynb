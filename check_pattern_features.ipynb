{
 "cells": [
  {
   "cell_type": "code",
   "execution_count": 1,
   "id": "legendary-ordinary",
   "metadata": {},
   "outputs": [
    {
     "name": "stderr",
     "output_type": "stream",
     "text": [
      "/home/dmitry/cit_func/lib/python3.8/site-packages/allennlp/service/predictors/__init__.py:22: FutureWarning: allennlp.service.predictors.* has been depreciated. Please use allennlp.predictors.*\n",
      "  warnings.warn(\"allennlp.service.predictors.* has been depreciated. \"\n",
      "/home/dmitry/cit_func/lib/python3.8/site-packages/allennlp/service/predictors/predictor.py:5: FutureWarning: allennlp.service.predictors.* has been deprecated. Please use allennlp.predictors.*\n",
      "  warnings.warn(\"allennlp.service.predictors.* has been deprecated.\"\n"
     ]
    }
   ],
   "source": [
    "import numpy as np\n",
    "import pandas as pd\n",
    "import jsonlines\n",
    "\n",
    "from scicite.compute_features import get_formulaic_features, get_agent_features\n",
    "from scicite.resources.lexicons import FORMULAIC_PATTERNS, AGENT_PATTERNS"
   ]
  },
  {
   "cell_type": "code",
   "execution_count": 2,
   "id": "understanding-success",
   "metadata": {},
   "outputs": [],
   "source": [
    "FILE_TEST_PRED = \"preds/origin/out_test.jsonl\"\n",
    "FILE_TEST_TRUE = \"scicite/data/acl-arc/test.jsonl\"\n",
    "\n",
    "FILE_DEV_PRED = \"preds/origin/out_dev.jsonl\"\n",
    "FILE_DEV_TRUE = \"scicite/data/acl-arc/dev.jsonl\"\n",
    "\n",
    "FILE_TRAIN_PRED = \"preds/origin/out_train.jsonl\"\n",
    "FILE_TRAIN_TRUE = \"scicite/data/acl-arc/train.jsonl\""
   ]
  },
  {
   "cell_type": "code",
   "execution_count": null,
   "id": "stuffed-parent",
   "metadata": {},
   "outputs": [],
   "source": []
  },
  {
   "cell_type": "code",
   "execution_count": 40,
   "id": "50180268",
   "metadata": {},
   "outputs": [],
   "source": [
    "def get_patterns_from_cit(citation):\n",
    "    cit_sent = citation['sents_before'][0]\n",
    "    print(\"Citation text:\\n\")\n",
    "    print(citation['text'], end='\\n\\n')\n",
    "    \n",
    "    f_features, f_feature_names, f_patterns = get_formulaic_features(cit_sent, count=False)\n",
    "    print(\"Formulaic patterns:\\n\")\n",
    "    for pat in f_patterns:\n",
    "        print(pat)\n",
    "    \n",
    "    print()\n",
    "    \n",
    "    a_features, a_feature_names, a_patterns = get_agent_features(cit_sent, count=False)\n",
    "    print(\"Agent patterns:\\n\")\n",
    "    for pat in a_patterns:\n",
    "        print(pat)"
   ]
  },
  {
   "cell_type": "code",
   "execution_count": 34,
   "id": "7591d76e",
   "metadata": {},
   "outputs": [],
   "source": [
    "dev_list = []\n",
    "with jsonlines.open(FILE_DEV_TRUE) as reader:\n",
    "    for obj in reader:\n",
    "        dev_list.append(obj)"
   ]
  },
  {
   "cell_type": "code",
   "execution_count": null,
   "id": "7fad5a06",
   "metadata": {},
   "outputs": [],
   "source": []
  },
  {
   "cell_type": "code",
   "execution_count": 35,
   "id": "8d9fcc2d",
   "metadata": {},
   "outputs": [
    {
     "name": "stdout",
     "output_type": "stream",
     "text": [
      "Citation text:\n",
      "\n",
      "Our knowledge extractors rely extensively on MetaMap ( Aronson 2001 ) , a system for identifying segments of text that correspond to concepts in the UMLS Metathesaurus .\n",
      "\n",
      "Formulaic patterns:\n",
      "\n",
      "a @WORK_NOUN for\n",
      "@WORK_NOUN for #VV\n",
      "@SELF_NOM\n",
      "\n",
      "Agent patterns:\n",
      "\n"
     ]
    }
   ],
   "source": [
    "get_patterns_from_cit(dev_list[11])"
   ]
  },
  {
   "cell_type": "code",
   "execution_count": 36,
   "id": "6caaec5c",
   "metadata": {},
   "outputs": [
    {
     "name": "stdout",
     "output_type": "stream",
     "text": [
      "Citation text:\n",
      "\n",
      "OT therefore holds out the promise of simplifying grammars , by factoring all complex phenomena into simple surface-level constraints that partially mask one another .1 Whether this is always possible under an appropriate definition of `` simple constraints '' ( e.g. , Eisner 1997b ) is of course an empirical question .\n",
      "\n",
      "Formulaic patterns:\n",
      "\n",
      "@GOOD_ADJ\n",
      "\n",
      "Agent patterns:\n",
      "\n"
     ]
    }
   ],
   "source": [
    "get_patterns_from_cit(dev_list[111])"
   ]
  },
  {
   "cell_type": "code",
   "execution_count": 37,
   "id": "aa292e40",
   "metadata": {},
   "outputs": [
    {
     "name": "stdout",
     "output_type": "stream",
     "text": [
      "Citation text:\n",
      "\n",
      "This Principle of Finitism is also assumed by Johnson-Laird ( 1983 ) , Jackendoff ( 1983 ) , Kamp ( 1981 ) , and implicitly or explicitly by almost all researchers in computational linguistics .\n",
      "\n",
      "Formulaic patterns:\n",
      "\n",
      "researcher in @DISCIPLINE\n",
      "@PROFESSIONALS\n",
      "\n",
      "Agent patterns:\n",
      "\n"
     ]
    }
   ],
   "source": [
    "get_patterns_from_cit(dev_list[27])"
   ]
  },
  {
   "cell_type": "code",
   "execution_count": 38,
   "id": "839b982b",
   "metadata": {},
   "outputs": [
    {
     "name": "stdout",
     "output_type": "stream",
     "text": [
      "Citation text:\n",
      "\n",
      "More specifically , the notion of the phrasal lexicon ( used first by Becker 1975 ) has been used successfully in a number of areas :\n",
      "\n",
      "Formulaic patterns:\n",
      "\n",
      "\n",
      "Agent patterns:\n",
      "\n"
     ]
    }
   ],
   "source": [
    "get_patterns_from_cit(dev_list[54])"
   ]
  },
  {
   "cell_type": "code",
   "execution_count": 39,
   "id": "ca572018",
   "metadata": {},
   "outputs": [
    {
     "name": "stdout",
     "output_type": "stream",
     "text": [
      "Citation text:\n",
      "\n",
      "Discrepancies in length throw constituents off balance , and so prosodic phrasing will cross constituent boundaries in order to give the phrases similar lengths ; this is the case in Chickens were eating II the remaining green vegetables , where the subject-predicate boundary finds no prosodic correspondent .4 The most explicit version of this approach is the analysis presented in Gee and Grosjean ( 1983 ) ( henceforth G&G ) .\n",
      "\n",
      "Formulaic patterns:\n",
      "\n",
      "in order to\n",
      "the @WORK_NOUN @GIVEN\n",
      "the @WORK_NOUN\n",
      "\n",
      "Agent patterns:\n",
      "\n"
     ]
    }
   ],
   "source": [
    "get_patterns_from_cit(dev_list[99])"
   ]
  },
  {
   "cell_type": "code",
   "execution_count": null,
   "id": "1b5f9ab0",
   "metadata": {},
   "outputs": [],
   "source": []
  },
  {
   "cell_type": "markdown",
   "id": "9a43d760",
   "metadata": {},
   "source": [
    "***Pattern coverage***"
   ]
  },
  {
   "cell_type": "code",
   "execution_count": 45,
   "id": "ed426c19",
   "metadata": {},
   "outputs": [],
   "source": [
    "train_list = []\n",
    "with jsonlines.open(FILE_TRAIN_TRUE) as reader:\n",
    "    for obj in reader:\n",
    "        train_list.append(obj)"
   ]
  },
  {
   "cell_type": "code",
   "execution_count": 46,
   "id": "7fbc9c93",
   "metadata": {},
   "outputs": [
    {
     "data": {
      "text/plain": [
       "1688"
      ]
     },
     "execution_count": 46,
     "metadata": {},
     "output_type": "execute_result"
    }
   ],
   "source": [
    "len(train_list)"
   ]
  },
  {
   "cell_type": "code",
   "execution_count": null,
   "id": "04f9f9fe",
   "metadata": {},
   "outputs": [],
   "source": []
  },
  {
   "cell_type": "markdown",
   "id": "be800fb7",
   "metadata": {},
   "source": [
    "all patterns:"
   ]
  },
  {
   "cell_type": "code",
   "execution_count": 55,
   "id": "f54d0064",
   "metadata": {},
   "outputs": [],
   "source": [
    "all_patterns = set()\n",
    "for pat_type in FORMULAIC_PATTERNS.values():\n",
    "    all_patterns.update(pat_type)\n",
    "for pat_type in AGENT_PATTERNS.values():\n",
    "    all_patterns.update(pat_type)"
   ]
  },
  {
   "cell_type": "code",
   "execution_count": 56,
   "id": "a8b86f38",
   "metadata": {},
   "outputs": [
    {
     "data": {
      "text/plain": [
       "618"
      ]
     },
     "execution_count": 56,
     "metadata": {},
     "output_type": "execute_result"
    }
   ],
   "source": [
    "len(all_patterns)"
   ]
  },
  {
   "cell_type": "markdown",
   "id": "46adb4b3",
   "metadata": {},
   "source": [
    "TRAIN ( only citation )"
   ]
  },
  {
   "cell_type": "code",
   "execution_count": 47,
   "id": "c54f50b7",
   "metadata": {},
   "outputs": [],
   "source": [
    "train_met_patterns = set()\n",
    "for cit in train_list:\n",
    "    cit_sent = cit['sents_before'][0]\n",
    "    _, _, f_pats = get_formulaic_features(cit_sent, count=False)\n",
    "    _, _, a_pats = get_agent_features(cit_sent, count=False)\n",
    "    train_met_patterns.update(f_pats + a_pats)"
   ]
  },
  {
   "cell_type": "code",
   "execution_count": 48,
   "id": "ff2bcd53",
   "metadata": {},
   "outputs": [
    {
     "data": {
      "text/plain": [
       "117"
      ]
     },
     "execution_count": 48,
     "metadata": {},
     "output_type": "execute_result"
    }
   ],
   "source": [
    "len(train_met_patterns)"
   ]
  },
  {
   "cell_type": "markdown",
   "id": "db176352",
   "metadata": {},
   "source": [
    "TRAIN ( all )"
   ]
  },
  {
   "cell_type": "code",
   "execution_count": 58,
   "id": "e961d860",
   "metadata": {},
   "outputs": [],
   "source": [
    "all_train_met_patterns = set()\n",
    "for cit in train_list:\n",
    "    \n",
    "    for cit_sent in cit['sents_before']:\n",
    "        _, _, f_pats = get_formulaic_features(cit_sent, count=False)\n",
    "        _, _, a_pats = get_agent_features(cit_sent, count=False)\n",
    "        all_train_met_patterns.update(f_pats + a_pats)\n",
    "        \n",
    "    for cit_sent in cit['sents_after']:\n",
    "        _, _, f_pats = get_formulaic_features(cit_sent, count=False)\n",
    "        _, _, a_pats = get_agent_features(cit_sent, count=False)\n",
    "        all_train_met_patterns.update(f_pats + a_pats)"
   ]
  },
  {
   "cell_type": "code",
   "execution_count": 60,
   "id": "77528c4d",
   "metadata": {},
   "outputs": [
    {
     "data": {
      "text/plain": [
       "180"
      ]
     },
     "execution_count": 60,
     "metadata": {},
     "output_type": "execute_result"
    }
   ],
   "source": [
    "len(train_met_patterns)"
   ]
  },
  {
   "cell_type": "code",
   "execution_count": null,
   "id": "ab8dab30",
   "metadata": {},
   "outputs": [],
   "source": []
  },
  {
   "cell_type": "markdown",
   "id": "a32ca762",
   "metadata": {},
   "source": [
    "all pattern types:"
   ]
  },
  {
   "cell_type": "code",
   "execution_count": 75,
   "id": "f9173715",
   "metadata": {},
   "outputs": [],
   "source": [
    "all_pattern_types = set()\n",
    "for pat_type in FORMULAIC_PATTERNS.keys():\n",
    "    all_pattern_types.add(pat_type)\n",
    "for pat_type in AGENT_PATTERNS.keys():\n",
    "    all_pattern_types.add(pat_type)"
   ]
  },
  {
   "cell_type": "code",
   "execution_count": 76,
   "id": "9a85303a",
   "metadata": {},
   "outputs": [
    {
     "data": {
      "text/plain": [
       "42"
      ]
     },
     "execution_count": 76,
     "metadata": {},
     "output_type": "execute_result"
    }
   ],
   "source": [
    "len(all_pattern_types)"
   ]
  },
  {
   "cell_type": "markdown",
   "id": "f188005e",
   "metadata": {},
   "source": [
    "TRAIN ( only citation )"
   ]
  },
  {
   "cell_type": "code",
   "execution_count": 70,
   "id": "63906e6c",
   "metadata": {},
   "outputs": [],
   "source": [
    "train_met_pattern_types = set()\n",
    "for cit in train_list:\n",
    "    cit_sent = cit['sents_before'][0]\n",
    "    _, _, f_pats = get_formulaic_features(cit_sent, count=False)\n",
    "    _, _, a_pats = get_agent_features(cit_sent, count=False)\n",
    "    \n",
    "    for pat in f_pats + a_pats:\n",
    "        for key, value_list in FORMULAIC_PATTERNS.items():\n",
    "            if pat in value_list:\n",
    "                train_met_pattern_types.add(key)\n",
    "        for key, value_list in AGENT_PATTERNS.items():\n",
    "            if pat in value_list:\n",
    "                train_met_pattern_types.add(key)"
   ]
  },
  {
   "cell_type": "code",
   "execution_count": 71,
   "id": "3deb3b2f",
   "metadata": {},
   "outputs": [
    {
     "data": {
      "text/plain": [
       "35"
      ]
     },
     "execution_count": 71,
     "metadata": {},
     "output_type": "execute_result"
    }
   ],
   "source": [
    "len(train_met_pattern_types)"
   ]
  },
  {
   "cell_type": "markdown",
   "id": "99f4324f",
   "metadata": {},
   "source": [
    "TRAIN ( all )"
   ]
  },
  {
   "cell_type": "code",
   "execution_count": 77,
   "id": "402ddc68",
   "metadata": {},
   "outputs": [],
   "source": [
    "all_train_met_pattern_types = set()\n",
    "for cit in train_list:\n",
    "    \n",
    "    for cit_sent in cit['sents_before']:\n",
    "        _, _, f_pats = get_formulaic_features(cit_sent, count=False)\n",
    "        _, _, a_pats = get_agent_features(cit_sent, count=False)\n",
    "        \n",
    "        for pat in f_pats + a_pats:\n",
    "            for key, value_list in FORMULAIC_PATTERNS.items():\n",
    "                if pat in value_list:\n",
    "                    all_train_met_pattern_types.add(key)\n",
    "            for key, value_list in AGENT_PATTERNS.items():\n",
    "                if pat in value_list:\n",
    "                    all_train_met_pattern_types.add(key)\n",
    "        \n",
    "    for cit_sent in cit['sents_after']:\n",
    "        _, _, f_pats = get_formulaic_features(cit_sent, count=False)\n",
    "        _, _, a_pats = get_agent_features(cit_sent, count=False)\n",
    "        \n",
    "        for pat in f_pats + a_pats:\n",
    "            for key, value_list in FORMULAIC_PATTERNS.items():\n",
    "                if pat in value_list:\n",
    "                    all_train_met_pattern_types.add(key)\n",
    "            for key, value_list in AGENT_PATTERNS.items():\n",
    "                if pat in value_list:\n",
    "                    all_train_met_pattern_types.add(key)"
   ]
  },
  {
   "cell_type": "code",
   "execution_count": 78,
   "id": "badc2690",
   "metadata": {},
   "outputs": [
    {
     "data": {
      "text/plain": [
       "36"
      ]
     },
     "execution_count": 78,
     "metadata": {},
     "output_type": "execute_result"
    }
   ],
   "source": [
    "len(all_train_met_pattern_types)"
   ]
  },
  {
   "cell_type": "code",
   "execution_count": null,
   "id": "ba13d6eb",
   "metadata": {},
   "outputs": [],
   "source": []
  }
 ],
 "metadata": {
  "kernelspec": {
   "display_name": "Python 3 (ipykernel)",
   "language": "python",
   "name": "python3"
  },
  "language_info": {
   "codemirror_mode": {
    "name": "ipython",
    "version": 3
   },
   "file_extension": ".py",
   "mimetype": "text/x-python",
   "name": "python",
   "nbconvert_exporter": "python",
   "pygments_lexer": "ipython3",
   "version": "3.8.10"
  }
 },
 "nbformat": 4,
 "nbformat_minor": 5
}
