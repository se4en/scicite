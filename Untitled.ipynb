{
 "cells": [
  {
   "cell_type": "code",
   "execution_count": 1,
   "id": "70f63bca",
   "metadata": {},
   "outputs": [
    {
     "name": "stderr",
     "output_type": "stream",
     "text": [
      "/home/dmitry/cit_func/lib/python3.8/site-packages/allennlp/service/predictors/__init__.py:22: FutureWarning: allennlp.service.predictors.* has been depreciated. Please use allennlp.predictors.*\n",
      "  warnings.warn(\"allennlp.service.predictors.* has been depreciated. \"\n",
      "/home/dmitry/cit_func/lib/python3.8/site-packages/allennlp/service/predictors/predictor.py:5: FutureWarning: allennlp.service.predictors.* has been deprecated. Please use allennlp.predictors.*\n",
      "  warnings.warn(\"allennlp.service.predictors.* has been deprecated.\"\n"
     ]
    }
   ],
   "source": [
    "import jsonlines\n",
    "import numpy as np\n",
    "from sklearn.metrics import confusion_matrix\n",
    "import seaborn as sns\n",
    "import pandas as pd\n",
    "import matplotlib.pyplot as plt\n",
    "\n",
    "from scicite.compute_features import get_formulaic_features, get_agent_features"
   ]
  },
  {
   "cell_type": "code",
   "execution_count": 2,
   "id": "cd29e31f",
   "metadata": {},
   "outputs": [],
   "source": [
    "FILE_TEST_PRED = \"[TEST]_pred_weights.jsonl\"\n",
    "FILE_TEST_PRED_ONLY_BERT = \"pred_test_with_bert.jsonl\"\n",
    "FILE_TEST_TRUE = \"scicite/data/acl-arc/test.jsonl\"\n",
    "\n",
    "FILE_DEV_PRED = \"[DEV]_pred_weights.jsonl\"\n",
    "FILE_DEV_PRED_ONLY_BERT = \"pred_dev_with_bert.jsonl\"\n",
    "FILE_DEV_TRUE = \"scicite/data/acl-arc/dev.jsonl\"\n",
    "\n",
    "FILE_TRAIN_PRED = \"[TRAIN]_pred_weights.jsonl\"\n",
    "FILE_TRAIN_PRED_ONLY_BERT = \"pred_train_with_bert.jsonl\"\n",
    "FILE_TRAIN_TRUE = \"scicite/data/acl-arc/train.jsonl\"\n",
    "\n",
    "CLASSES = ['Background', 'Uses', 'CompareOrContrast', 'Motivation', 'Extends', 'Future']"
   ]
  },
  {
   "cell_type": "code",
   "execution_count": null,
   "id": "477de601",
   "metadata": {},
   "outputs": [],
   "source": [
    "def compute_all_patterns_features(item):\n",
    "    formulaic_features, fn_1, __ = get_formulaic_features(item['sents_before'][0], prefix='InCitSent:')\n",
    "    agent_features, fn_2, _ = get_agent_features(item['sents_before'][0], prefix='InCitSent:')\n",
    "    fn_3, fn_4 = [], []\n",
    "    \n",
    "    formulaic_clause_features = formulaic_features\n",
    "    agent_clause_features = agent_features\n",
    "    if len(item['sents_before']) > 1:\n",
    "        for cur_sentence in item['sents_before'][1:]:\n",
    "            _formulaic_features, fn_3, _ = get_formulaic_features(cur_sentence, prefix='InClause:')\n",
    "            _agent_features, fn_4, _ = get_agent_features(cur_sentence, prefix='InClause:')\n",
    "            formulaic_clause_features = [f_1 or f_2 for f_1, f_2 in zip(formulaic_clause_features,\n",
    "                                                                        _formulaic_features)]\n",
    "            agent_clause_features = [f_1 or f_2 for f_1, f_2 in zip(agent_clause_features,\n",
    "                                                                    _agent_features)]\n",
    "    for cur_sentence in item['sents_after']:\n",
    "        _formulaic_features, _, _ = get_formulaic_features(cur_sentence, prefix='InClause:')\n",
    "        _agent_features, _, _ = get_agent_features(cur_sentence, prefix='InClause:')\n",
    "        formulaic_clause_features = [f_1 or f_2 for f_1, f_2 in zip(formulaic_clause_features,\n",
    "                                                                    _formulaic_features)]\n",
    "        agent_clause_features = [f_1 or f_2 for f_1, f_2 in zip(agent_clause_features,\n",
    "                                                                _agent_features)]\n",
    "        \n",
    "\n",
    "    x = formulaic_features + agent_features + formulaic_clause_features + agent_clause_features \n",
    "    y = CLASSES.index(item['intent'])\n",
    "    feature_names = fn_1 + fn_2\n",
    "    if fn_3:\n",
    "        feature_names += fn_3 + fn_4 \n",
    "    return x, y, feature_names"
   ]
  },
  {
   "cell_type": "code",
   "execution_count": null,
   "id": "7e27b417",
   "metadata": {},
   "outputs": [],
   "source": []
  },
  {
   "cell_type": "code",
   "execution_count": null,
   "id": "4e9967d2",
   "metadata": {},
   "outputs": [],
   "source": []
  },
  {
   "cell_type": "code",
   "execution_count": null,
   "id": "965ef01d",
   "metadata": {},
   "outputs": [],
   "source": []
  },
  {
   "cell_type": "code",
   "execution_count": null,
   "id": "7c0cad65",
   "metadata": {},
   "outputs": [],
   "source": []
  },
  {
   "cell_type": "code",
   "execution_count": null,
   "id": "67872df9",
   "metadata": {},
   "outputs": [],
   "source": []
  },
  {
   "cell_type": "code",
   "execution_count": null,
   "id": "16aa970a",
   "metadata": {},
   "outputs": [],
   "source": []
  },
  {
   "cell_type": "code",
   "execution_count": null,
   "id": "7f7c3593",
   "metadata": {},
   "outputs": [],
   "source": []
  },
  {
   "cell_type": "code",
   "execution_count": null,
   "id": "17a16665",
   "metadata": {},
   "outputs": [],
   "source": []
  },
  {
   "cell_type": "code",
   "execution_count": null,
   "id": "f2c49e3b",
   "metadata": {},
   "outputs": [],
   "source": []
  },
  {
   "cell_type": "code",
   "execution_count": null,
   "id": "8ee47567",
   "metadata": {},
   "outputs": [],
   "source": []
  },
  {
   "cell_type": "code",
   "execution_count": null,
   "id": "4defd0c1",
   "metadata": {},
   "outputs": [],
   "source": []
  },
  {
   "cell_type": "code",
   "execution_count": null,
   "id": "ee0a45f3",
   "metadata": {},
   "outputs": [],
   "source": []
  },
  {
   "cell_type": "code",
   "execution_count": null,
   "id": "f0f929e3",
   "metadata": {},
   "outputs": [],
   "source": []
  },
  {
   "cell_type": "code",
   "execution_count": null,
   "id": "e7028892",
   "metadata": {},
   "outputs": [],
   "source": []
  },
  {
   "cell_type": "code",
   "execution_count": null,
   "id": "3d209f3b",
   "metadata": {},
   "outputs": [],
   "source": []
  },
  {
   "cell_type": "code",
   "execution_count": null,
   "id": "444e4a36",
   "metadata": {},
   "outputs": [],
   "source": []
  }
 ],
 "metadata": {
  "kernelspec": {
   "display_name": "Python 3 (ipykernel)",
   "language": "python",
   "name": "python3"
  },
  "language_info": {
   "codemirror_mode": {
    "name": "ipython",
    "version": 3
   },
   "file_extension": ".py",
   "mimetype": "text/x-python",
   "name": "python",
   "nbconvert_exporter": "python",
   "pygments_lexer": "ipython3",
   "version": "3.8.10"
  }
 },
 "nbformat": 4,
 "nbformat_minor": 5
}
