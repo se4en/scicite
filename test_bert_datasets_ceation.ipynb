{
 "cells": [
  {
   "cell_type": "code",
   "execution_count": 1,
   "id": "f61cde3f",
   "metadata": {},
   "outputs": [],
   "source": [
    "import jsonlines\n",
    "from transformers import *\n",
    "import torch\n",
    "import numpy as np"
   ]
  },
  {
   "cell_type": "code",
   "execution_count": 2,
   "id": "2f8f75af",
   "metadata": {},
   "outputs": [],
   "source": [
    "FILE_TEST_TRUE = \"scicite/data/acl-arc/test.jsonl\"\n",
    "FILE_DEV_TRUE = \"scicite/data/acl-arc/dev.jsonl\"\n",
    "FILE_TRAIN_TRUE = \"scicite/data/acl-arc/train.jsonl\"\n",
    "\n",
    "FILE_TEST_NEW = \"scicite/data/acl-arc-emb/test.jsonl\"\n",
    "FILE_DEV_NEW = \"scicite/data/acl-arc-emb/dev.jsonl\"\n",
    "FILE_TRAIN_NEW = \"scicite/data/acl-arc-emb/train.jsonl\"\n",
    "\n",
    "FILE_TRUE_EMBS = \"scicite/data/acl-arc-emb/embeddings.npy\"\n",
    "\n",
    "\n",
    "\n",
    "FILE_TRAIN_TRUE_SCAF_1 = \"scicite/data/acl-arc/scaffolds/cite-worthiness-scaffold-train.jsonl\"\n",
    "FILE_TRAIN_TRUE_SCAF_1_NEW = \"scicite/data/acl-arc-emb/scaffolds/cite-worthiness-scaffold-embs/\"\n",
    "\n",
    "FILE_TRAIN_TRUE_SCAF_2 = \"scicite/data/acl-arc/scaffolds/sections-scaffold-train.jsonl\"\n",
    "FILE_TRAIN_TRUE_SCAF_2_NEW = \"scicite/data/acl-arc-emb/scaffolds/sections-scaffold-embs/\""
   ]
  },
  {
   "cell_type": "markdown",
   "id": "08a3ab33",
   "metadata": {},
   "source": [
    "Bert"
   ]
  },
  {
   "cell_type": "code",
   "execution_count": 3,
   "id": "e34c4472",
   "metadata": {},
   "outputs": [],
   "source": [
    "tokenizer = AutoTokenizer.from_pretrained(\"allenai/scibert_scivocab_uncased\",do_lower_case=True)"
   ]
  },
  {
   "cell_type": "code",
   "execution_count": 4,
   "id": "7a4fc442",
   "metadata": {},
   "outputs": [
    {
     "name": "stderr",
     "output_type": "stream",
     "text": [
      "Some weights of the model checkpoint at allenai/scibert_scivocab_uncased were not used when initializing BertModel: ['cls.predictions.decoder.weight', 'cls.predictions.transform.dense.bias', 'cls.predictions.transform.LayerNorm.weight', 'cls.predictions.transform.dense.weight', 'cls.predictions.transform.LayerNorm.bias', 'cls.seq_relationship.weight', 'cls.predictions.decoder.bias', 'cls.seq_relationship.bias', 'cls.predictions.bias']\n",
      "- This IS expected if you are initializing BertModel from the checkpoint of a model trained on another task or with another architecture (e.g. initializing a BertForSequenceClassification model from a BertForPreTraining model).\n",
      "- This IS NOT expected if you are initializing BertModel from the checkpoint of a model that you expect to be exactly identical (initializing a BertForSequenceClassification model from a BertForSequenceClassification model).\n"
     ]
    }
   ],
   "source": [
    "model = AutoModel.from_pretrained(\"allenai/scibert_scivocab_uncased\")"
   ]
  },
  {
   "cell_type": "code",
   "execution_count": null,
   "id": "4223b2c8",
   "metadata": {},
   "outputs": [],
   "source": []
  },
  {
   "cell_type": "code",
   "execution_count": null,
   "id": "e070dc3f",
   "metadata": {},
   "outputs": [],
   "source": []
  },
  {
   "cell_type": "code",
   "execution_count": null,
   "id": "7dcb1e13",
   "metadata": {},
   "outputs": [],
   "source": []
  },
  {
   "cell_type": "code",
   "execution_count": null,
   "id": "10b41560",
   "metadata": {},
   "outputs": [],
   "source": []
  },
  {
   "cell_type": "code",
   "execution_count": 5,
   "id": "dbebeeeb",
   "metadata": {},
   "outputs": [],
   "source": [
    "def check_item(true_file):\n",
    "    with jsonlines.open(true_file, 'r') as reader:\n",
    "        for item in enumerate(reader):\n",
    "            print(item)\n",
    "            break"
   ]
  },
  {
   "cell_type": "code",
   "execution_count": 6,
   "id": "34c31a2f",
   "metadata": {},
   "outputs": [
    {
     "name": "stdout",
     "output_type": "stream",
     "text": [
      "(0, {'text': 'Texts are often structured into segments to ease understanding and readability of texts .', 'citing_paper_id': 'N12-1064', 'cited_paper_id': None, 'citing_paper_year': 2012, 'cited_paper_year': -1, 'citing_paper_title': 'a holistic lexiconbased approach to opinion mining', 'cited_paper_title': None, 'cited_author_ids': None, 'citing_author_ids': None, 'extended_context': None, 'section_number': 0, 'section_title': None, 'intent': None, 'cite_marker_offset': None, 'sents_before': None, 'sents_after': None, 'cleaned_cite_text': 'Texts are often structured into segments to ease understanding and readability of texts .', 'citation_id': None, 'citation_excerpt_index': 0, 'section_name': '1 Introduction', 'is_citation': False})\n"
     ]
    }
   ],
   "source": [
    "check_item(FILE_TRAIN_TRUE_SCAF_1)"
   ]
  },
  {
   "cell_type": "code",
   "execution_count": 7,
   "id": "84db4ff8",
   "metadata": {},
   "outputs": [
    {
     "name": "stdout",
     "output_type": "stream",
     "text": [
      "(0, {'text': 'For topic modeling , we use the widely applied LDA ( Blei et al. , 2003 ) .', 'section_name': 'related work', 'citing_paper_id': 'N12-1064', 'cited_paper_id': 'External_351'})\n"
     ]
    }
   ],
   "source": [
    "check_item(FILE_TRAIN_TRUE_SCAF_2)"
   ]
  },
  {
   "cell_type": "code",
   "execution_count": 10,
   "id": "54764ad4",
   "metadata": {},
   "outputs": [],
   "source": [
    "def save_embs():\n",
    "    emb_cnt = 0\n",
    "    embeddings = []\n",
    "    \n",
    "    with jsonlines.open(FILE_TEST_TRUE, 'r') as reader:\n",
    "        with jsonlines.open(FILE_TEST_NEW, 'w') as writer:\n",
    "            for item in enumerate(reader):\n",
    "                tok_out = tokenizer.encode(item[1]['text'], padding='max_length', max_length=400)\n",
    "                tok_out = torch.tensor(tok_out).unsqueeze(0)\n",
    "                #print(tok_out.size())\n",
    "                emb_out = model(tok_out)[0]\n",
    "                \n",
    "                item[1]['emb_id'] = emb_cnt\n",
    "                embeddings.append(emb_out.detach().numpy())\n",
    "                writer.write(item[1])\n",
    "                emb_cnt += 1\n",
    "    print(\"done_test\")\n",
    "    \n",
    "    with jsonlines.open(FILE_DEV_TRUE, 'r') as reader:\n",
    "        with jsonlines.open(FILE_DEV_NEW, 'w') as writer:\n",
    "            for item in enumerate(reader):\n",
    "                tok_out = tokenizer.encode(item[1]['text'], padding='max_length', max_length=400)\n",
    "                emb_out = model(torch.tensor(tok_out).unsqueeze(0))[0]\n",
    "                \n",
    "                item[1]['emb_id'] = emb_cnt\n",
    "                embeddings.append(emb_out.detach().numpy())\n",
    "                writer.write(item[1])\n",
    "                emb_cnt += 1\n",
    "    print(\"done_dev\")\n",
    "                \n",
    "    with jsonlines.open(FILE_TRAIN_TRUE, 'r') as reader:\n",
    "        with jsonlines.open(FILE_TRAIN_NEW, 'w') as writer:\n",
    "            for item in enumerate(reader):\n",
    "                tok_out = tokenizer.encode(item[1]['text'], padding='max_length', max_length=400)\n",
    "                emb_out = model(torch.tensor(tok_out).unsqueeze(0))[0]\n",
    "                \n",
    "                item[1]['emb_id'] = emb_cnt\n",
    "                embeddings.append(emb_out.detach().numpy())\n",
    "                writer.write(item[1])\n",
    "                emb_cnt += 1\n",
    "    print(\"done_train\")\n",
    "                \n",
    "    np.save(FILE_TRUE_EMBS, np.array(embeddings))"
   ]
  },
  {
   "cell_type": "code",
   "execution_count": null,
   "id": "6bba2f08",
   "metadata": {},
   "outputs": [
    {
     "name": "stdout",
     "output_type": "stream",
     "text": [
      "done_test\n",
      "done_dev\n"
     ]
    }
   ],
   "source": [
    "save_embs()"
   ]
  },
  {
   "cell_type": "code",
   "execution_count": null,
   "id": "1c9daef6",
   "metadata": {},
   "outputs": [],
   "source": []
  },
  {
   "cell_type": "code",
   "execution_count": null,
   "id": "69eb3d09",
   "metadata": {},
   "outputs": [],
   "source": []
  },
  {
   "cell_type": "code",
   "execution_count": 12,
   "id": "b976d788",
   "metadata": {},
   "outputs": [],
   "source": [
    "with jsonlines.open(FILE_TEST_TRUE, 'r') as reader:\n",
    "    for item in enumerate(reader):\n",
    "        tok_out_1 = tokenizer.encode(item[1]['text'], padding='max_length', max_length=400)\n",
    "        break"
   ]
  },
  {
   "cell_type": "code",
   "execution_count": 15,
   "id": "cad3dab6",
   "metadata": {},
   "outputs": [
    {
     "ename": "AttributeError",
     "evalue": "'list' object has no attribute 'shape'",
     "output_type": "error",
     "traceback": [
      "\u001b[0;31m---------------------------------------------------------------------------\u001b[0m",
      "\u001b[0;31mAttributeError\u001b[0m                            Traceback (most recent call last)",
      "\u001b[0;32m/tmp/ipykernel_16692/4253965418.py\u001b[0m in \u001b[0;36m<module>\u001b[0;34m\u001b[0m\n\u001b[0;32m----> 1\u001b[0;31m \u001b[0mtok_out_1\u001b[0m\u001b[0;34m.\u001b[0m\u001b[0mshape\u001b[0m\u001b[0;34m(\u001b[0m\u001b[0;34m)\u001b[0m\u001b[0;34m\u001b[0m\u001b[0;34m\u001b[0m\u001b[0m\n\u001b[0m",
      "\u001b[0;31mAttributeError\u001b[0m: 'list' object has no attribute 'shape'"
     ]
    }
   ],
   "source": []
  },
  {
   "cell_type": "code",
   "execution_count": null,
   "id": "ebc25241",
   "metadata": {},
   "outputs": [],
   "source": [
    "tok_out = np.expand_dims(np.array(tok_out), axis=0)\n",
    "            emb_out = model(tok_out)[0]"
   ]
  },
  {
   "cell_type": "code",
   "execution_count": null,
   "id": "88b899d1",
   "metadata": {},
   "outputs": [],
   "source": []
  },
  {
   "cell_type": "code",
   "execution_count": null,
   "id": "c4a74e55",
   "metadata": {},
   "outputs": [],
   "source": []
  },
  {
   "cell_type": "code",
   "execution_count": 4,
   "id": "a1db60ad",
   "metadata": {},
   "outputs": [],
   "source": [
    "rewrite(FILE_TEST_TRUE, FILE_TEST_TRUE_NEW, 10)"
   ]
  },
  {
   "cell_type": "code",
   "execution_count": 5,
   "id": "05e2b2bb",
   "metadata": {},
   "outputs": [],
   "source": [
    "rewrite(FILE_DEV_TRUE, FILE_DEV_TRUE_NEW, 10)"
   ]
  },
  {
   "cell_type": "code",
   "execution_count": 6,
   "id": "34ddf932",
   "metadata": {},
   "outputs": [],
   "source": [
    "rewrite(FILE_TRAIN_TRUE, FILE_TRAIN_TRUE_NEW, 100)"
   ]
  },
  {
   "cell_type": "code",
   "execution_count": 9,
   "id": "c9c1655a",
   "metadata": {},
   "outputs": [],
   "source": [
    "rewrite(FILE_TRAIN_TRUE_SCAF_1, FILE_TRAIN_TRUE_SCAF_1_NEW, 200)"
   ]
  },
  {
   "cell_type": "code",
   "execution_count": 10,
   "id": "c589698c",
   "metadata": {},
   "outputs": [],
   "source": [
    "rewrite(FILE_TRAIN_TRUE_SCAF_2, FILE_TRAIN_TRUE_SCAF_2_NEW, 200)"
   ]
  },
  {
   "cell_type": "code",
   "execution_count": null,
   "id": "9aba4459",
   "metadata": {},
   "outputs": [],
   "source": []
  },
  {
   "cell_type": "code",
   "execution_count": null,
   "id": "6e9ecc5a",
   "metadata": {},
   "outputs": [],
   "source": []
  },
  {
   "cell_type": "code",
   "execution_count": 8,
   "id": "814ac888",
   "metadata": {},
   "outputs": [],
   "source": [
    "with jsonlines.open(FILE_DEV_TRUE, 'r') as reader:\n",
    "    for i, entry in enumerate(reader):\n",
    "        buf = entry"
   ]
  },
  {
   "cell_type": "code",
   "execution_count": 12,
   "id": "6018beed",
   "metadata": {},
   "outputs": [
    {
     "data": {
      "text/plain": [
       "['text',\n",
       " 'citing_paper_id',\n",
       " 'cited_paper_id',\n",
       " 'citing_paper_year',\n",
       " 'cited_paper_year',\n",
       " 'citing_paper_title',\n",
       " 'cited_paper_title',\n",
       " 'cited_author_ids',\n",
       " 'citing_author_ids',\n",
       " 'extended_context',\n",
       " 'section_number',\n",
       " 'section_title',\n",
       " 'intent',\n",
       " 'cite_marker_offset',\n",
       " 'sents_before',\n",
       " 'sents_after',\n",
       " 'cleaned_cite_text',\n",
       " 'citation_id',\n",
       " 'citation_excerpt_index',\n",
       " 'section_name']"
      ]
     },
     "execution_count": 12,
     "metadata": {},
     "output_type": "execute_result"
    }
   ],
   "source": [
    "list(buf.keys())"
   ]
  },
  {
   "cell_type": "code",
   "execution_count": 13,
   "id": "e9645439",
   "metadata": {},
   "outputs": [
    {
     "data": {
      "text/plain": [
       "'This result is consistent with other works using this model with these features ( Andrews et al. , 2009 ; Silberer and Lapata , 2012 ) .'"
      ]
     },
     "execution_count": 13,
     "metadata": {},
     "output_type": "execute_result"
    }
   ],
   "source": [
    "buf['text']"
   ]
  },
  {
   "cell_type": "code",
   "execution_count": 19,
   "id": "54ba172b",
   "metadata": {},
   "outputs": [
    {
     "data": {
      "text/plain": [
       "'The 2D models employing feature norms and association norms do significantly better than the text-only model ( two-tailed t-test ) . This result is consistent with other works using this model with these features ( Andrews et al. , 2009 ; Silberer and Lapata , 2012 ) . We also see that the SURF visual words are able to provide notable , albeit not significant , improvements over the text-only modality .'"
      ]
     },
     "execution_count": 19,
     "metadata": {},
     "output_type": "execute_result"
    }
   ],
   "source": [
    "buf['extended_context']"
   ]
  },
  {
   "cell_type": "code",
   "execution_count": null,
   "id": "a2b5322d",
   "metadata": {},
   "outputs": [],
   "source": []
  },
  {
   "cell_type": "code",
   "execution_count": 20,
   "id": "ac373bf7",
   "metadata": {},
   "outputs": [
    {
     "data": {
      "text/plain": [
       "0"
      ]
     },
     "execution_count": 20,
     "metadata": {},
     "output_type": "execute_result"
    }
   ],
   "source": [
    "buf['citation_excerpt_index']"
   ]
  },
  {
   "cell_type": "code",
   "execution_count": null,
   "id": "3b4d7edd",
   "metadata": {},
   "outputs": [],
   "source": []
  },
  {
   "cell_type": "code",
   "execution_count": null,
   "id": "29d2e507",
   "metadata": {},
   "outputs": [],
   "source": []
  },
  {
   "cell_type": "code",
   "execution_count": null,
   "id": "3ac89a2c",
   "metadata": {},
   "outputs": [],
   "source": []
  },
  {
   "cell_type": "code",
   "execution_count": null,
   "id": "293f48fd",
   "metadata": {},
   "outputs": [],
   "source": []
  },
  {
   "cell_type": "code",
   "execution_count": null,
   "id": "5a060e23",
   "metadata": {},
   "outputs": [],
   "source": []
  }
 ],
 "metadata": {
  "kernelspec": {
   "display_name": "Python 3 (ipykernel)",
   "language": "python",
   "name": "python3"
  },
  "language_info": {
   "codemirror_mode": {
    "name": "ipython",
    "version": 3
   },
   "file_extension": ".py",
   "mimetype": "text/x-python",
   "name": "python",
   "nbconvert_exporter": "python",
   "pygments_lexer": "ipython3",
   "version": "3.8.10"
  }
 },
 "nbformat": 4,
 "nbformat_minor": 5
}
