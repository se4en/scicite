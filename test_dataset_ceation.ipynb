{
 "cells": [
  {
   "cell_type": "code",
   "execution_count": 1,
   "id": "f61cde3f",
   "metadata": {},
   "outputs": [],
   "source": [
    "import jsonlines\n"
   ]
  },
  {
   "cell_type": "code",
   "execution_count": 2,
   "id": "2f8f75af",
   "metadata": {},
   "outputs": [],
   "source": [
    "FILE_TEST_TRUE = \"scicite/scicite/data/acl-arc/test.jsonl\"\n",
    "FILE_TEST_TRUE_NEW = \"scicite/scicite/data/acl-arc-test/test.jsonl\"\n",
    "\n",
    "FILE_DEV_TRUE = \"scicite/scicite/data/acl-arc/dev.jsonl\"\n",
    "FILE_DEV_TRUE_NEW = \"scicite/scicite/data/acl-arc-test/dev.jsonl\"\n",
    "\n",
    "\n",
    "FILE_TRAIN_TRUE = \"scicite/scicite/data/acl-arc/train.jsonl\"\n",
    "FILE_TRAIN_TRUE_NEW = \"scicite/scicite/data/acl-arc-test/train.jsonl\"\n",
    "\n",
    "FILE_TRAIN_TRUE_SCAF_1 = \"scicite/scicite/data/acl-arc/scaffolds/cite-worthiness-scaffold-train.jsonl\"\n",
    "FILE_TRAIN_TRUE_SCAF_1_NEW = \"scicite/scicite/data/acl-arc-test/scaffolds/cite-worthiness-scaffold-train.jsonl\"\n",
    "\n",
    "FILE_TRAIN_TRUE_SCAF_2 = \"scicite/scicite/data/acl-arc/scaffolds/sections-scaffold-train.jsonl\"\n",
    "FILE_TRAIN_TRUE_SCAF_2_NEW = \"scicite/scicite/data/acl-arc-test/scaffolds/sections-scaffold-train.jsonl\""
   ]
  },
  {
   "cell_type": "code",
   "execution_count": 3,
   "id": "54764ad4",
   "metadata": {},
   "outputs": [],
   "source": [
    "def rewrite(true_file, new_file, max_cnt):\n",
    "    with jsonlines.open(true_file, 'r') as reader:\n",
    "        with jsonlines.open(new_file, mode='w') as writer:\n",
    "                for i, entry in enumerate(reader):\n",
    "                    writer.write(entry)\n",
    "                    if i == max_cnt:\n",
    "                        break"
   ]
  },
  {
   "cell_type": "code",
   "execution_count": 4,
   "id": "a1db60ad",
   "metadata": {},
   "outputs": [],
   "source": [
    "rewrite(FILE_TEST_TRUE, FILE_TEST_TRUE_NEW, 10)"
   ]
  },
  {
   "cell_type": "code",
   "execution_count": 5,
   "id": "05e2b2bb",
   "metadata": {},
   "outputs": [],
   "source": [
    "rewrite(FILE_DEV_TRUE, FILE_DEV_TRUE_NEW, 10)"
   ]
  },
  {
   "cell_type": "code",
   "execution_count": 6,
   "id": "34ddf932",
   "metadata": {},
   "outputs": [],
   "source": [
    "rewrite(FILE_TRAIN_TRUE, FILE_TRAIN_TRUE_NEW, 100)"
   ]
  },
  {
   "cell_type": "code",
   "execution_count": 9,
   "id": "c9c1655a",
   "metadata": {},
   "outputs": [],
   "source": [
    "rewrite(FILE_TRAIN_TRUE_SCAF_1, FILE_TRAIN_TRUE_SCAF_1_NEW, 200)"
   ]
  },
  {
   "cell_type": "code",
   "execution_count": 10,
   "id": "c589698c",
   "metadata": {},
   "outputs": [],
   "source": [
    "rewrite(FILE_TRAIN_TRUE_SCAF_2, FILE_TRAIN_TRUE_SCAF_2_NEW, 200)"
   ]
  },
  {
   "cell_type": "code",
   "execution_count": null,
   "id": "9aba4459",
   "metadata": {},
   "outputs": [],
   "source": []
  },
  {
   "cell_type": "code",
   "execution_count": null,
   "id": "6e9ecc5a",
   "metadata": {},
   "outputs": [],
   "source": []
  },
  {
   "cell_type": "code",
   "execution_count": null,
   "id": "814ac888",
   "metadata": {},
   "outputs": [],
   "source": []
  },
  {
   "cell_type": "code",
   "execution_count": null,
   "id": "6018beed",
   "metadata": {},
   "outputs": [],
   "source": []
  },
  {
   "cell_type": "code",
   "execution_count": null,
   "id": "e9645439",
   "metadata": {},
   "outputs": [],
   "source": []
  },
  {
   "cell_type": "code",
   "execution_count": null,
   "id": "54ba172b",
   "metadata": {},
   "outputs": [],
   "source": []
  },
  {
   "cell_type": "code",
   "execution_count": null,
   "id": "a2b5322d",
   "metadata": {},
   "outputs": [],
   "source": []
  },
  {
   "cell_type": "code",
   "execution_count": null,
   "id": "ac373bf7",
   "metadata": {},
   "outputs": [],
   "source": []
  }
 ],
 "metadata": {
  "kernelspec": {
   "display_name": "Python 3 (ipykernel)",
   "language": "python",
   "name": "python3"
  },
  "language_info": {
   "codemirror_mode": {
    "name": "ipython",
    "version": 3
   },
   "file_extension": ".py",
   "mimetype": "text/x-python",
   "name": "python",
   "nbconvert_exporter": "python",
   "pygments_lexer": "ipython3",
   "version": "3.8.10"
  }
 },
 "nbformat": 4,
 "nbformat_minor": 5
}
