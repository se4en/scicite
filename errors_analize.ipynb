{
 "cells": [
  {
   "cell_type": "code",
   "execution_count": 7,
   "id": "133416a0",
   "metadata": {},
   "outputs": [],
   "source": [
    "import jsonlines\n",
    "import numpy as np\n",
    "from sklearn.metrics import confusion_matrix\n",
    "import seaborn as sn\n",
    "import pandas as pd\n",
    "import matplotlib.pyplot as plt"
   ]
  },
  {
   "cell_type": "code",
   "execution_count": 8,
   "id": "aa02fb46",
   "metadata": {},
   "outputs": [],
   "source": [
    "FILE_TEST_PRED = \"[TEST]_pred_weights.jsonl\"\n",
    "FILE_TEST_PRED_ONLY_BERT = \"pred_test_with_bert.jsonl\"\n",
    "FILE_TEST_TRUE = \"scicite/data/acl-arc/test.jsonl\"\n",
    "\n",
    "FILE_DEV_PRED = \"[DEV]_pred_weights.jsonl\"\n",
    "FILE_DEV_PRED_ONLY_BERT = \"pred_dev_with_bert.jsonl\"\n",
    "FILE_DEV_TRUE = \"scicite/data/acl-arc/dev.jsonl\"\n",
    "\n",
    "FILE_TRAIN_PRED = \"[TRAIN]_pred_weights.jsonl\"\n",
    "FILE_TRAIN_PRED_ONLY_BERT = \"pred_train_with_bert.jsonl\"\n",
    "FILE_TRAIN_TRUE = \"scicite/data/acl-arc/train.jsonl\"\n",
    "\n",
    "CLASSES = ['Background', 'Uses', 'CompareOrContrast', 'Motivation', 'Extends', 'Future']"
   ]
  },
  {
   "cell_type": "code",
   "execution_count": null,
   "id": "a21f5067",
   "metadata": {},
   "outputs": [],
   "source": [
    "def compute_all_patterns_features(item: Dict):\n",
    "    formulaic_features, fn_1, __ = get_formulaic_features(item['sents_before'][0], prefix='InCitSent:')\n",
    "    agent_features, fn_2, _ = get_agent_features(item['sents_before'][0], prefix='InCitSent:')\n",
    "    fn_3, fn_4 = [], []\n",
    "    \n",
    "    formulaic_clause_features = formulaic_features\n",
    "    agent_clause_features = agent_features\n",
    "    if len(item['sents_before']) > 1:\n",
    "        for cur_sentence in item['sents_before'][1:]:\n",
    "            _formulaic_features, fn_3, _ = get_formulaic_features(cur_sentence, prefix='InClause:')\n",
    "            _agent_features, fn_4, _ = get_agent_features(cur_sentence, prefix='InClause:')\n",
    "            formulaic_clause_features = [f_1 or f_2 for f_1, f_2 in zip(formulaic_clause_features,\n",
    "                                                                        _formulaic_features)]\n",
    "            agent_clause_features = [f_1 or f_2 for f_1, f_2 in zip(agent_clause_features,\n",
    "                                                                    _agent_features)]\n",
    "    for cur_sentence in item['sents_after']:\n",
    "        _formulaic_features, _, _ = get_formulaic_features(cur_sentence, prefix='InClause:')\n",
    "        _agent_features, _, _ = get_agent_features(cur_sentence, prefix='InClause:')\n",
    "        formulaic_clause_features = [f_1 or f_2 for f_1, f_2 in zip(formulaic_clause_features,\n",
    "                                                                    _formulaic_features)]\n",
    "        agent_clause_features = [f_1 or f_2 for f_1, f_2 in zip(agent_clause_features,\n",
    "                                                                _agent_features)]\n",
    "        \n",
    "\n",
    "    x = formulaic_features + agent_features + formulaic_clause_features + agent_clause_features \n",
    "    y = CLASSES.index(item['intent'])\n",
    "    feature_names = fn_1 + fn_2\n",
    "    if fn_3:\n",
    "        feature_names += fn_3 + fn_4 \n",
    "    return x, y, feature_names"
   ]
  },
  {
   "cell_type": "code",
   "execution_count": null,
   "id": "b91a41f8",
   "metadata": {},
   "outputs": [],
   "source": [
    "def get_true_examples_patterns(true_file, pred_file)\n",
    "    result = {cls: 0 for cls in CLASSES}\n",
    "    \n",
    "    # true values\n",
    "    true = dict()\n",
    "    with jsonlines.open(true_file) as reader:\n",
    "        for obj in reader:\n",
    "            true[obj['citation_id']] = obj\n",
    "    \n",
    "    # pred values\n",
    "    pairs = dict()\n",
    "    with jsonlines.open(pred_file) as reader:\n",
    "        for obj in reader:\n",
    "            if true[obj['citation_id']]['intent'] != obj['prediction']:\n",
    "                new_obj = true[obj['citation_id']]\n",
    "                new_obj['prediction'] = obj['prediction']\n",
    "                result.append(new_obj)\n",
    "    \n",
    "    return result"
   ]
  },
  {
   "cell_type": "code",
   "execution_count": 11,
   "id": "25fed8f7",
   "metadata": {},
   "outputs": [],
   "source": [
    "def get_errors(true_file, pred_file):\n",
    "    result = []\n",
    "    \n",
    "    # true values\n",
    "    true = dict()\n",
    "    with jsonlines.open(true_file) as reader:\n",
    "        for obj in reader:\n",
    "            true[obj['citation_id']] = obj\n",
    "    \n",
    "    # pred values\n",
    "    pairs = dict()\n",
    "    with jsonlines.open(pred_file) as reader:\n",
    "        for obj in reader:\n",
    "            if true[obj['citation_id']]['intent'] != obj['prediction']:\n",
    "                new_obj = true[obj['citation_id']]\n",
    "                new_obj['prediction'] = obj['prediction']\n",
    "                result.append(new_obj)\n",
    "    \n",
    "    return result"
   ]
  },
  {
   "cell_type": "code",
   "execution_count": 12,
   "id": "3810975d",
   "metadata": {},
   "outputs": [],
   "source": [
    "errors = get_errors(FILE_TEST_TRUE, FILE_TEST_PRED)"
   ]
  },
  {
   "cell_type": "code",
   "execution_count": 14,
   "id": "de82cba8",
   "metadata": {},
   "outputs": [
    {
     "name": "stdout",
     "output_type": "stream",
     "text": [
      "True=Uses Predict=Future\n",
      "True=Motivation Predict=Uses\n",
      "True=Background Predict=CompareOrContrast\n",
      "True=Uses Predict=Motivation\n",
      "True=CompareOrContrast Predict=Background\n",
      "True=CompareOrContrast Predict=Extends\n",
      "True=Uses Predict=Background\n",
      "True=CompareOrContrast Predict=Background\n",
      "True=Uses Predict=Extends\n",
      "True=CompareOrContrast Predict=Motivation\n",
      "True=Uses Predict=Background\n",
      "True=CompareOrContrast Predict=Background\n",
      "True=Uses Predict=Background\n",
      "True=Background Predict=Future\n",
      "True=Background Predict=Uses\n",
      "True=Motivation Predict=Uses\n",
      "True=Motivation Predict=Background\n",
      "True=Background Predict=Uses\n",
      "True=CompareOrContrast Predict=Background\n",
      "True=CompareOrContrast Predict=Background\n",
      "True=Background Predict=Uses\n",
      "True=Background Predict=CompareOrContrast\n",
      "True=Motivation Predict=Background\n",
      "True=Background Predict=Uses\n",
      "True=Extends Predict=Background\n",
      "True=Background Predict=CompareOrContrast\n",
      "True=Motivation Predict=CompareOrContrast\n"
     ]
    }
   ],
   "source": [
    "for _ in errors:\n",
    "    print(f\"True={_['intent']} Predict={_['prediction']}\")"
   ]
  },
  {
   "cell_type": "code",
   "execution_count": null,
   "id": "f7263c50",
   "metadata": {},
   "outputs": [],
   "source": []
  },
  {
   "cell_type": "code",
   "execution_count": null,
   "id": "f9025e07",
   "metadata": {},
   "outputs": [],
   "source": []
  },
  {
   "cell_type": "code",
   "execution_count": null,
   "id": "13577fdc",
   "metadata": {},
   "outputs": [],
   "source": []
  },
  {
   "cell_type": "code",
   "execution_count": null,
   "id": "e4f7b893",
   "metadata": {},
   "outputs": [],
   "source": []
  },
  {
   "cell_type": "code",
   "execution_count": null,
   "id": "cff00f68",
   "metadata": {},
   "outputs": [],
   "source": []
  },
  {
   "cell_type": "code",
   "execution_count": null,
   "id": "1c506aae",
   "metadata": {},
   "outputs": [],
   "source": []
  },
  {
   "cell_type": "code",
   "execution_count": null,
   "id": "53c93932",
   "metadata": {},
   "outputs": [],
   "source": []
  },
  {
   "cell_type": "code",
   "execution_count": null,
   "id": "e5f28ee0",
   "metadata": {},
   "outputs": [],
   "source": []
  },
  {
   "cell_type": "code",
   "execution_count": null,
   "id": "8db8552a",
   "metadata": {},
   "outputs": [],
   "source": []
  },
  {
   "cell_type": "code",
   "execution_count": null,
   "id": "ffed842d",
   "metadata": {},
   "outputs": [],
   "source": []
  },
  {
   "cell_type": "code",
   "execution_count": null,
   "id": "6df134a4",
   "metadata": {},
   "outputs": [],
   "source": []
  },
  {
   "cell_type": "code",
   "execution_count": null,
   "id": "d91982a2",
   "metadata": {},
   "outputs": [],
   "source": []
  },
  {
   "cell_type": "code",
   "execution_count": null,
   "id": "89dfaa85",
   "metadata": {},
   "outputs": [],
   "source": []
  },
  {
   "cell_type": "code",
   "execution_count": null,
   "id": "992ef27f",
   "metadata": {},
   "outputs": [],
   "source": []
  },
  {
   "cell_type": "code",
   "execution_count": null,
   "id": "e1fc851f",
   "metadata": {},
   "outputs": [],
   "source": []
  },
  {
   "cell_type": "code",
   "execution_count": null,
   "id": "ec357af4",
   "metadata": {},
   "outputs": [],
   "source": []
  },
  {
   "cell_type": "code",
   "execution_count": null,
   "id": "11f5a425",
   "metadata": {},
   "outputs": [],
   "source": []
  },
  {
   "cell_type": "code",
   "execution_count": null,
   "id": "9146c50f",
   "metadata": {},
   "outputs": [],
   "source": []
  }
 ],
 "metadata": {
  "kernelspec": {
   "display_name": "Python 3 (ipykernel)",
   "language": "python",
   "name": "python3"
  },
  "language_info": {
   "codemirror_mode": {
    "name": "ipython",
    "version": 3
   },
   "file_extension": ".py",
   "mimetype": "text/x-python",
   "name": "python",
   "nbconvert_exporter": "python",
   "pygments_lexer": "ipython3",
   "version": "3.8.10"
  }
 },
 "nbformat": 4,
 "nbformat_minor": 5
}
