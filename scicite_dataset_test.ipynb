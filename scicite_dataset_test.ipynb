{
 "cells": [
  {
   "cell_type": "code",
   "execution_count": 107,
   "id": "7a005f10",
   "metadata": {},
   "outputs": [],
   "source": [
    "import jsonlines\n",
    "import numpy as np\n",
    "import spacy\n",
    "\n",
    "from sklearn.model_selection import cross_val_score\n",
    "from sklearn.metrics import f1_score\n",
    "from lightgbm import LGBMClassifier\n",
    "import lightgbm as lgb\n",
    "import matplotlib.pyplot as plt\n",
    "\n",
    "from scicite.compute_features import get_formulaic_features, get_agent_features"
   ]
  },
  {
   "cell_type": "code",
   "execution_count": 2,
   "id": "4c762c1c",
   "metadata": {},
   "outputs": [],
   "source": [
    "ACLARC_TEST = \"scicite/data/acl-arc/test.jsonl\"\n",
    "ACLARC_DEV = \"scicite/data/acl-arc/dev.jsonl\"\n",
    "ACLARC_TRAIN = \"scicite/data/acl-arc/train.jsonl\"\n",
    "\n",
    "SCICITE_TEST_OLD = \"scicite/data/scicite/test.jsonl\"\n",
    "SCICITE_DEV_OLD = \"scicite/data/scicite/dev.jsonl\"\n",
    "SCICITE_TRAIN_OLD = \"scicite/data/scicite/train.jsonl\"\n",
    "\n",
    "SCICITE_TEST_NEW = \"scicite/data/scicite-upd/test.jsonl\"\n",
    "SCICITE_DEV_NEW = \"scicite/data/scicite-upd/dev.jsonl\"\n",
    "SCICITE_TRAIN_NEW = \"scicite/data/scicite-upd/train.jsonl\""
   ]
  },
  {
   "cell_type": "markdown",
   "id": "eb2293b7",
   "metadata": {},
   "source": [
    " "
   ]
  },
  {
   "cell_type": "markdown",
   "id": "28bf109f",
   "metadata": {},
   "source": [
    " "
   ]
  },
  {
   "cell_type": "markdown",
   "id": "5bf06fb2",
   "metadata": {},
   "source": [
    "***CREATE NEW DATASET***"
   ]
  },
  {
   "cell_type": "markdown",
   "id": "bfd3b1a0",
   "metadata": {},
   "source": [
    " "
   ]
  },
  {
   "cell_type": "markdown",
   "id": "10821168",
   "metadata": {},
   "source": [
    " "
   ]
  },
  {
   "cell_type": "code",
   "execution_count": 16,
   "id": "03d2fb37",
   "metadata": {},
   "outputs": [],
   "source": [
    "nlp = spacy.load(\"en_core_web_sm\")"
   ]
  },
  {
   "cell_type": "code",
   "execution_count": 17,
   "id": "651cf3cb",
   "metadata": {},
   "outputs": [],
   "source": [
    "def process_sentence(sent: str):\n",
    "    doc = nlp(sent)\n",
    "    #print(\"Doc=\", doc)\n",
    "    token_list = []\n",
    "    for i, token in enumerate(doc):\n",
    "        cur_token = {\n",
    "            'index': token.i + 1,\n",
    "            'word': token.text,\n",
    "            'lemma': token.lemma_,\n",
    "            'pos': token.tag_,\n",
    "            'originalText': token.text,\n",
    "            'ArgType': token.dep_,\n",
    "\n",
    "        }\n",
    "        token_list.append(cur_token)\n",
    "        #print(\"Token:\")\n",
    "        #print(token.i, token.text, token.lemma_, token.pos_, token.tag_, token.dep_,\n",
    "        #            token.shape_, token.is_alpha, token.is_stop)\n",
    "    return token_list"
   ]
  },
  {
   "cell_type": "code",
   "execution_count": 19,
   "id": "0436ddce",
   "metadata": {},
   "outputs": [],
   "source": [
    "def create_new_dataset():\n",
    "    \n",
    "    with jsonlines.open(SCICITE_TEST_OLD, 'r') as reader:\n",
    "        with jsonlines.open(SCICITE_TEST_NEW, 'w') as writer:\n",
    "            for item in enumerate(reader):\n",
    "                item[1]['text'] = process_sentence(item[1]['string'])\n",
    "                writer.write(item[1])\n",
    "    print(\"done_test\")\n",
    "                \n",
    "    with jsonlines.open(SCICITE_DEV_OLD, 'r') as reader:\n",
    "        with jsonlines.open(SCICITE_DEV_NEW, 'w') as writer:\n",
    "            for item in enumerate(reader):\n",
    "                item[1]['text'] = process_sentence(item[1]['string'])\n",
    "                writer.write(item[1])\n",
    "    print(\"done_dev\")\n",
    "                \n",
    "    with jsonlines.open(SCICITE_TRAIN_OLD, 'r') as reader:\n",
    "        with jsonlines.open(SCICITE_TRAIN_NEW, 'w') as writer:\n",
    "            for item in enumerate(reader):\n",
    "                item[1]['text'] = process_sentence(item[1]['string'])\n",
    "                writer.write(item[1])"
   ]
  },
  {
   "cell_type": "code",
   "execution_count": 20,
   "id": "f03f1dbc",
   "metadata": {},
   "outputs": [
    {
     "name": "stdout",
     "output_type": "stream",
     "text": [
      "done_test\n",
      "done_dev\n"
     ]
    }
   ],
   "source": [
    "create_new_dataset()"
   ]
  },
  {
   "cell_type": "markdown",
   "id": "cecc3db4",
   "metadata": {},
   "source": [
    "Example of acl-arc token:"
   ]
  },
  {
   "cell_type": "markdown",
   "id": "2d9e4bce",
   "metadata": {},
   "source": [
    "{\"index\": 4, \"word\": \"Bulgarian\", \"lemma\": \"bulgarian\", \"after\": \" \", \"pos\": \"JJ\", \"characterOffsetEnd\": 513, \"segment_span\": [0, 43], \"characterOffsetBegin\": 504, \"originalText\": \"Bulgarian\", \"ArgType\": \"verb\", \"before\": \" \"}"
   ]
  },
  {
   "cell_type": "markdown",
   "id": "4389ac53",
   "metadata": {},
   "source": [
    " "
   ]
  },
  {
   "cell_type": "markdown",
   "id": "cc2babc6",
   "metadata": {},
   "source": [
    " "
   ]
  },
  {
   "cell_type": "markdown",
   "id": "08a82268",
   "metadata": {},
   "source": [
    "***CHECK SIMILARITY***"
   ]
  },
  {
   "cell_type": "markdown",
   "id": "dba80ac3",
   "metadata": {},
   "source": [
    " "
   ]
  },
  {
   "cell_type": "markdown",
   "id": "395f6f18",
   "metadata": {},
   "source": [
    " "
   ]
  },
  {
   "cell_type": "code",
   "execution_count": 29,
   "id": "ff79d9b0",
   "metadata": {},
   "outputs": [],
   "source": [
    "def compute_all_patterns_features(item):\n",
    "    formulaic_features, fn_1, __ = get_formulaic_features(item['sents_before'][0], prefix='InCitSent:')\n",
    "    agent_features, fn_2, _ = get_agent_features(item['sents_before'][0], prefix='InCitSent:')\n",
    "    fn_3, fn_4 = [], []\n",
    "    \n",
    "    formulaic_clause_features = formulaic_features\n",
    "    agent_clause_features = agent_features\n",
    "    if len(item['sents_before']) > 1:\n",
    "        for cur_sentence in item['sents_before'][1:]:\n",
    "            _formulaic_features, fn_3, _ = get_formulaic_features(cur_sentence, prefix='InClause:')\n",
    "            _agent_features, fn_4, _ = get_agent_features(cur_sentence, prefix='InClause:')\n",
    "            formulaic_clause_features = [f_1 or f_2 for f_1, f_2 in zip(formulaic_clause_features,\n",
    "                                                                        _formulaic_features)]\n",
    "            agent_clause_features = [f_1 or f_2 for f_1, f_2 in zip(agent_clause_features,\n",
    "                                                                    _agent_features)]\n",
    "    for cur_sentence in item['sents_after']:\n",
    "        _formulaic_features, _, _ = get_formulaic_features(cur_sentence, prefix='InClause:')\n",
    "        _agent_features, _, _ = get_agent_features(cur_sentence, prefix='InClause:')\n",
    "        formulaic_clause_features = [f_1 or f_2 for f_1, f_2 in zip(formulaic_clause_features,\n",
    "                                                                    _formulaic_features)]\n",
    "        agent_clause_features = [f_1 or f_2 for f_1, f_2 in zip(agent_clause_features,\n",
    "                                                                _agent_features)]\n",
    "        \n",
    "\n",
    "    x = formulaic_features + agent_features + formulaic_clause_features + agent_clause_features \n",
    "    y = CLASSES.index(item['intent'])\n",
    "    feature_names = fn_1 + fn_2\n",
    "    if fn_3:\n",
    "        feature_names += fn_3 + fn_4 \n",
    "    return x, y, feature_names"
   ]
  },
  {
   "cell_type": "code",
   "execution_count": 30,
   "id": "2e7163b6",
   "metadata": {},
   "outputs": [],
   "source": [
    "def compute_aclarc_features(item):\n",
    "    formulaic_features, fn_1, __ = get_formulaic_features(item['sents_before'][0], prefix='InCitSent:')\n",
    "    agent_features, fn_2, _ = get_agent_features(item['sents_before'][0], prefix='InCitSent:')\n",
    "\n",
    "    x = formulaic_features + agent_features\n",
    "    y = 0\n",
    "    return x, y"
   ]
  },
  {
   "cell_type": "code",
   "execution_count": 31,
   "id": "9aad4551",
   "metadata": {},
   "outputs": [],
   "source": [
    "def compute_scicite_features(item):\n",
    "    formulaic_features, fn_1, __ = get_formulaic_features(item['text'], prefix='InCitSent:')\n",
    "    agent_features, fn_2, _ = get_agent_features(item['text'], prefix='InCitSent:')\n",
    "\n",
    "    x = formulaic_features + agent_features\n",
    "    y = 1\n",
    "    return x, y"
   ]
  },
  {
   "cell_type": "code",
   "execution_count": 35,
   "id": "1dc8f1e9",
   "metadata": {},
   "outputs": [],
   "source": [
    "def get_aclarc_data():\n",
    "    X = []\n",
    "    y = []\n",
    "    \n",
    "    with jsonlines.open(ACLARC_TEST, 'r') as reader:\n",
    "        for item in enumerate(reader):\n",
    "            _x, _y = compute_aclarc_features(item[1])\n",
    "            X.append(_x)\n",
    "            y.append(_y)\n",
    "    print(\"done test\")\n",
    "    \n",
    "    with jsonlines.open(ACLARC_DEV, 'r') as reader:\n",
    "        for item in enumerate(reader):\n",
    "            _x, _y = compute_aclarc_features(item[1])\n",
    "            X.append(_x)\n",
    "            y.append(_y)\n",
    "    print(\"done dev\")\n",
    "        \n",
    "    with jsonlines.open(ACLARC_TRAIN, 'r') as reader:\n",
    "        for item in enumerate(reader):\n",
    "            _x, _y = compute_aclarc_features(item[1])\n",
    "            X.append(_x)\n",
    "            y.append(_y)\n",
    "    print(\"done train\")\n",
    "    \n",
    "    return X, y"
   ]
  },
  {
   "cell_type": "code",
   "execution_count": 36,
   "id": "52dcd834",
   "metadata": {},
   "outputs": [
    {
     "name": "stdout",
     "output_type": "stream",
     "text": [
      "done test\n",
      "done dev\n",
      "done train\n"
     ]
    }
   ],
   "source": [
    "X_aclarc, y_aclarc = get_aclarc_data()"
   ]
  },
  {
   "cell_type": "code",
   "execution_count": 37,
   "id": "ee1bd5b6",
   "metadata": {},
   "outputs": [],
   "source": [
    "def get_scicite_data():\n",
    "    X = []\n",
    "    y = []\n",
    "    \n",
    "    with jsonlines.open(SCICITE_TEST_NEW, 'r') as reader:\n",
    "        for item in enumerate(reader):\n",
    "            _x, _y = compute_scicite_features(item[1])\n",
    "            X.append(_x)\n",
    "            y.append(_y)\n",
    "    print(\"done test\")\n",
    "    \n",
    "    with jsonlines.open(SCICITE_DEV_NEW, 'r') as reader:\n",
    "        for item in enumerate(reader):\n",
    "            _x, _y = compute_scicite_features(item[1])\n",
    "            X.append(_x)\n",
    "            y.append(_y)\n",
    "    print(\"done dev\")\n",
    "        \n",
    "    with jsonlines.open(SCICITE_TRAIN_NEW, 'r') as reader:\n",
    "        for item in enumerate(reader):\n",
    "            _x, _y = compute_scicite_features(item[1])\n",
    "            X.append(_x)\n",
    "            y.append(_y)\n",
    "    print(\"done train\")\n",
    "    \n",
    "    return X, y"
   ]
  },
  {
   "cell_type": "code",
   "execution_count": 38,
   "id": "76c8fdf9",
   "metadata": {},
   "outputs": [
    {
     "name": "stdout",
     "output_type": "stream",
     "text": [
      "done test\n",
      "done dev\n",
      "done train\n"
     ]
    }
   ],
   "source": [
    "X_scicite, y_scicite = get_scicite_data()"
   ]
  },
  {
   "cell_type": "markdown",
   "id": "e730412b",
   "metadata": {},
   "source": [
    "Concat datasets"
   ]
  },
  {
   "cell_type": "code",
   "execution_count": 53,
   "id": "52ebf81e",
   "metadata": {},
   "outputs": [],
   "source": [
    "X_aclarc = np.array(X_aclarc)\n",
    "y_aclarc = np.array(y_aclarc)\n",
    "X_scicite = np.array(X_scicite)\n",
    "y_scicite = np.array(y_scicite)"
   ]
  },
  {
   "cell_type": "code",
   "execution_count": 54,
   "id": "394efd87",
   "metadata": {},
   "outputs": [
    {
     "data": {
      "text/plain": [
       "(1941, 1941, 11020, 11020)"
      ]
     },
     "execution_count": 54,
     "metadata": {},
     "output_type": "execute_result"
    }
   ],
   "source": [
    "len(X_aclarc), len(y_aclarc), len(X_scicite), len(y_scicite)"
   ]
  },
  {
   "cell_type": "code",
   "execution_count": 55,
   "id": "d4768c1a",
   "metadata": {},
   "outputs": [],
   "source": [
    "X = np.concatenate((X_aclarc, X_scicite))\n",
    "y = np.concatenate((y_aclarc, y_scicite))"
   ]
  },
  {
   "cell_type": "code",
   "execution_count": 56,
   "id": "db673cc6",
   "metadata": {},
   "outputs": [
    {
     "data": {
      "text/plain": [
       "(12961, 12961)"
      ]
     },
     "execution_count": 56,
     "metadata": {},
     "output_type": "execute_result"
    }
   ],
   "source": [
    "len(X), len(y)"
   ]
  },
  {
   "cell_type": "markdown",
   "id": "262434be",
   "metadata": {},
   "source": [
    "Shuffle"
   ]
  },
  {
   "cell_type": "code",
   "execution_count": 58,
   "id": "2aec3777",
   "metadata": {},
   "outputs": [],
   "source": [
    "p = np.random.permutation(len(X))\n",
    "X = X[p]\n",
    "y = y[p]"
   ]
  },
  {
   "cell_type": "code",
   "execution_count": 64,
   "id": "18f028d2",
   "metadata": {},
   "outputs": [
    {
     "data": {
      "text/plain": [
       "0.924170185065013"
      ]
     },
     "execution_count": 64,
     "metadata": {},
     "output_type": "execute_result"
    }
   ],
   "source": [
    "clf = LGBMClassifier()\n",
    "scores = cross_val_score(clf, X, y, scoring='f1', cv=5)\n",
    "scores.mean()"
   ]
  },
  {
   "cell_type": "code",
   "execution_count": 74,
   "id": "03312d44",
   "metadata": {},
   "outputs": [],
   "source": [
    "clf = LGBMClassifier().fit(X, y)"
   ]
  },
  {
   "cell_type": "code",
   "execution_count": 79,
   "id": "175f293f",
   "metadata": {},
   "outputs": [
    {
     "data": {
      "text/plain": [
       "<AxesSubplot:title={'center':'Feature importance'}, xlabel='Feature importance', ylabel='Features'>"
      ]
     },
     "execution_count": 79,
     "metadata": {},
     "output_type": "execute_result"
    },
    {
     "data": {
      "image/png": "[encoded data removed]",
      "text/plain": [
       "<Figure size 432x288 with 1 Axes>"
      ]
     },
     "metadata": {
      "needs_background": "light"
     },
     "output_type": "display_data"
    }
   ],
   "source": [
    "lgb.plot_importance(clf, max_num_features=15)"
   ]
  },
  {
   "cell_type": "markdown",
   "id": "63f7acca",
   "metadata": {},
   "source": [
    "Create 'background' dataset"
   ]
  },
  {
   "cell_type": "code",
   "execution_count": 83,
   "id": "73576d7e",
   "metadata": {},
   "outputs": [],
   "source": [
    "def compute_aclarc_features_back(item):\n",
    "    formulaic_features, fn_1, __ = get_formulaic_features(item['sents_before'][0], prefix='InCitSent:')\n",
    "    agent_features, fn_2, _ = get_agent_features(item['sents_before'][0], prefix='InCitSent:')\n",
    "\n",
    "    x = formulaic_features + agent_features\n",
    "    y = item['intent'] == 'Background'\n",
    "    return x, y"
   ]
  },
  {
   "cell_type": "code",
   "execution_count": 84,
   "id": "587980a7",
   "metadata": {},
   "outputs": [],
   "source": [
    "def compute_scicite_features_back(item):\n",
    "    formulaic_features, fn_1, __ = get_formulaic_features(item['text'], prefix='InCitSent:')\n",
    "    agent_features, fn_2, _ = get_agent_features(item['text'], prefix='InCitSent:')\n",
    "\n",
    "    x = formulaic_features + agent_features\n",
    "    y = item['label'] == 'background'\n",
    "    return x, y"
   ]
  },
  {
   "cell_type": "code",
   "execution_count": 88,
   "id": "82d258b5",
   "metadata": {},
   "outputs": [],
   "source": [
    "def get_aclarc_data_back():\n",
    "    X = []\n",
    "    y = []\n",
    "            \n",
    "    with jsonlines.open(ACLARC_TRAIN, 'r') as reader:\n",
    "        for item in enumerate(reader):\n",
    "            _x, _y = compute_aclarc_features_back(item[1])\n",
    "            X.append(_x)\n",
    "            y.append(_y)\n",
    "    print(\"done train\")\n",
    "    \n",
    "    return X, y"
   ]
  },
  {
   "cell_type": "code",
   "execution_count": 89,
   "id": "06032521",
   "metadata": {},
   "outputs": [
    {
     "name": "stdout",
     "output_type": "stream",
     "text": [
      "done train\n"
     ]
    }
   ],
   "source": [
    "X_aclarc_back, y_aclarc_back = get_aclarc_data_back()"
   ]
  },
  {
   "cell_type": "code",
   "execution_count": 90,
   "id": "ef719014",
   "metadata": {},
   "outputs": [],
   "source": [
    "def get_scicite_data_back():\n",
    "    X = []\n",
    "    y = []\n",
    "    \n",
    "    with jsonlines.open(SCICITE_TEST_NEW, 'r') as reader:\n",
    "        for item in enumerate(reader):\n",
    "            _x, _y = compute_scicite_features_back(item[1])\n",
    "            X.append(_x)\n",
    "            y.append(_y)\n",
    "    print(\"done test\")\n",
    "    \n",
    "    with jsonlines.open(SCICITE_DEV_NEW, 'r') as reader:\n",
    "        for item in enumerate(reader):\n",
    "            _x, _y = compute_scicite_features_back(item[1])\n",
    "            X.append(_x)\n",
    "            y.append(_y)\n",
    "    print(\"done dev\")\n",
    "        \n",
    "    with jsonlines.open(SCICITE_TRAIN_NEW, 'r') as reader:\n",
    "        for item in enumerate(reader):\n",
    "            _x, _y = compute_scicite_features_back(item[1])\n",
    "            X.append(_x)\n",
    "            y.append(_y)\n",
    "    print(\"done train\")\n",
    "    \n",
    "    return X, y"
   ]
  },
  {
   "cell_type": "code",
   "execution_count": 91,
   "id": "bab72a50",
   "metadata": {},
   "outputs": [
    {
     "name": "stdout",
     "output_type": "stream",
     "text": [
      "done test\n",
      "done dev\n",
      "done train\n"
     ]
    }
   ],
   "source": [
    "X_scicite_back, y_scicite_back = get_scicite_data_back()"
   ]
  },
  {
   "cell_type": "code",
   "execution_count": 92,
   "id": "4229d761",
   "metadata": {},
   "outputs": [],
   "source": [
    "X_back = np.concatenate((X_aclarc_back, X_scicite_back))\n",
    "y_back = np.concatenate((y_aclarc_back, y_scicite_back))"
   ]
  },
  {
   "cell_type": "code",
   "execution_count": 93,
   "id": "7b7e858a",
   "metadata": {},
   "outputs": [],
   "source": [
    "p_back = np.random.permutation(len(X_back))\n",
    "X_back = X_back[p_back]\n",
    "y_back = y_back[p_back]"
   ]
  },
  {
   "cell_type": "markdown",
   "id": "8215f6e8",
   "metadata": {},
   "source": [
    " "
   ]
  },
  {
   "cell_type": "code",
   "execution_count": 94,
   "id": "fcfa7d45",
   "metadata": {},
   "outputs": [
    {
     "data": {
      "text/plain": [
       "0.7324557120051782"
      ]
     },
     "execution_count": 94,
     "metadata": {},
     "output_type": "execute_result"
    }
   ],
   "source": [
    "clf_back = LGBMClassifier()\n",
    "scores = cross_val_score(clf_back, X_back, y_back, scoring='f1', cv=5)\n",
    "scores.mean()"
   ]
  },
  {
   "cell_type": "code",
   "execution_count": 98,
   "id": "0d262a1a",
   "metadata": {},
   "outputs": [],
   "source": [
    "clf_back = LGBMClassifier().fit(X_back, y_back)"
   ]
  },
  {
   "cell_type": "code",
   "execution_count": 99,
   "id": "f9b6847b",
   "metadata": {},
   "outputs": [
    {
     "data": {
      "text/plain": [
       "<AxesSubplot:title={'center':'Feature importance'}, xlabel='Feature importance', ylabel='Features'>"
      ]
     },
     "execution_count": 99,
     "metadata": {},
     "output_type": "execute_result"
    },
    {
     "data": {
      "image/png": "[encoded data removed]",
      "text/plain": [
       "<Figure size 432x288 with 1 Axes>"
      ]
     },
     "metadata": {
      "needs_background": "light"
     },
     "output_type": "display_data"
    }
   ],
   "source": [
    "lgb.plot_importance(clf, max_num_features=15)"
   ]
  },
  {
   "cell_type": "code",
   "execution_count": 100,
   "id": "2ccb137d",
   "metadata": {},
   "outputs": [
    {
     "data": {
      "text/plain": [
       "<AxesSubplot:title={'center':'Feature importance'}, xlabel='Feature importance', ylabel='Features'>"
      ]
     },
     "execution_count": 100,
     "metadata": {},
     "output_type": "execute_result"
    },
    {
     "data": {
      "image/png": "[encoded data removed]",
      "text/plain": [
       "<Figure size 432x288 with 1 Axes>"
      ]
     },
     "metadata": {
      "needs_background": "light"
     },
     "output_type": "display_data"
    }
   ],
   "source": [
    "lgb.plot_importance(clf_back, max_num_features=15)"
   ]
  },
  {
   "cell_type": "code",
   "execution_count": 111,
   "id": "5f3c57db",
   "metadata": {},
   "outputs": [],
   "source": [
    "scicite_dict = np.array(X_scicite_back).astype(np.int32).sum(axis=0)\n",
    "aclarc_dict = np.array(X_aclarc_back).astype(np.int32).sum(axis=0)"
   ]
  },
  {
   "cell_type": "code",
   "execution_count": 115,
   "id": "3d130b97",
   "metadata": {},
   "outputs": [
    {
     "data": {
      "text/plain": [
       "<BarContainer object of 56 artists>"
      ]
     },
     "execution_count": 115,
     "metadata": {},
     "output_type": "execute_result"
    },
    {
     "data": {
      "image/png": "[encoded data removed]",
      "text/plain": [
       "<Figure size 914.4x451.44 with 2 Axes>"
      ]
     },
     "metadata": {
      "needs_background": "light"
     },
     "output_type": "display_data"
    }
   ],
   "source": [
    "fig, ax = plt.subplots(2, 1, figsize=(12.7, 6.27))\n",
    "fig.suptitle('Datasets patterns distribution', fontsize=16)\n",
    "\n",
    "ax[0].set_title(\"Scicite\")\n",
    "ax[0].bar(range(56), scicite_dict/len(X_scicite_back))\n",
    "                       \n",
    "ax[1].set_title(\"ACL-ARC\")\n",
    "ax[1].bar(range(56), aclarc_dict/len(X_aclarc_back))"
   ]
  },
  {
   "cell_type": "code",
   "execution_count": 123,
   "id": "29cc408a",
   "metadata": {},
   "outputs": [],
   "source": [
    "scicite_back_dict = np.array(X_scicite_back)[y_scicite_back].astype(np.int32).sum(axis=0)\n",
    "aclarc_back_dict = np.array(X_aclarc_back)[y_aclarc_back].astype(np.int32).sum(axis=0)"
   ]
  },
  {
   "cell_type": "code",
   "execution_count": 124,
   "id": "9e72186d",
   "metadata": {},
   "outputs": [
    {
     "data": {
      "text/plain": [
       "<BarContainer object of 56 artists>"
      ]
     },
     "execution_count": 124,
     "metadata": {},
     "output_type": "execute_result"
    },
    {
     "data": {
      "image/png": "[encoded data removed]",
      "text/plain": [
       "<Figure size 914.4x451.44 with 2 Axes>"
      ]
     },
     "metadata": {
      "needs_background": "light"
     },
     "output_type": "display_data"
    }
   ],
   "source": [
    "fig, ax = plt.subplots(2, 1, figsize=(12.7, 6.27))\n",
    "fig.suptitle(\"Datasets patterns distribution in 'Background' class\", fontsize=16)\n",
    "\n",
    "ax[0].set_title(\"Scicite\")\n",
    "ax[0].bar(range(56), scicite_back_dict/len(np.array(X_scicite_back)[y_scicite_back]))\n",
    "                       \n",
    "ax[1].set_title(\"ACL-ARC\")\n",
    "ax[1].bar(range(56), aclarc_back_dict/len(np.array(X_aclarc_back)[y_aclarc_back]))"
   ]
  },
  {
   "cell_type": "code",
   "execution_count": null,
   "id": "a125e9b4",
   "metadata": {},
   "outputs": [],
   "source": []
  }
 ],
 "metadata": {
  "kernelspec": {
   "display_name": "Python 3 (ipykernel)",
   "language": "python",
   "name": "python3"
  },
  "language_info": {
   "codemirror_mode": {
    "name": "ipython",
    "version": 3
   },
   "file_extension": ".py",
   "mimetype": "text/x-python",
   "name": "python",
   "nbconvert_exporter": "python",
   "pygments_lexer": "ipython3",
   "version": "3.8.10"
  }
 },
 "nbformat": 4,
 "nbformat_minor": 5
}
