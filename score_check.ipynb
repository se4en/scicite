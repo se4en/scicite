{
 "cells": [
  {
   "cell_type": "code",
   "execution_count": 82,
   "id": "attempted-teddy",
   "metadata": {},
   "outputs": [],
   "source": [
    "import numpy as np\n",
    "import pandas as pd\n",
    "import jsonlines\n",
    "\n",
    "from sklearn.metrics import f1_score"
   ]
  },
  {
   "cell_type": "code",
   "execution_count": null,
   "id": "built-classics",
   "metadata": {},
   "outputs": [],
   "source": []
  },
  {
   "cell_type": "code",
   "execution_count": 83,
   "id": "mineral-triumph",
   "metadata": {},
   "outputs": [],
   "source": [
    "FILE_TEST_PRED = \"scicite/preds/origin/out_test.jsonl\"\n",
    "FILE_TEST_TRUE = \"scicite/scicite/data/acl-arc/test.jsonl\"\n",
    "\n",
    "FILE_DEV_PRED = \"scicite/preds/origin/out_dev.jsonl\"\n",
    "FILE_DEV_TRUE = \"scicite/scicite/data/acl-arc/dev.jsonl\"\n",
    "\n",
    "FILE_TRAIN_PRED = \"scicite/preds/origin/out_train.jsonl\"\n",
    "FILE_TRAIN_TRUE = \"scicite/scicite/data/acl-arc/train.jsonl\""
   ]
  },
  {
   "cell_type": "code",
   "execution_count": null,
   "id": "supreme-distribution",
   "metadata": {},
   "outputs": [],
   "source": []
  },
  {
   "cell_type": "code",
   "execution_count": 84,
   "id": "israeli-eugene",
   "metadata": {},
   "outputs": [],
   "source": [
    "Labels = ['Background', 'CompareOrContrast', 'Extends', 'Future', 'Motivation', 'Uses']"
   ]
  },
  {
   "cell_type": "code",
   "execution_count": 85,
   "id": "gross-pointer",
   "metadata": {},
   "outputs": [],
   "source": [
    "labels_dict = {}"
   ]
  },
  {
   "cell_type": "code",
   "execution_count": 86,
   "id": "practical-customs",
   "metadata": {},
   "outputs": [],
   "source": [
    "for i, label in enumerate(Labels):\n",
    "    labels_dict[label] = i"
   ]
  },
  {
   "cell_type": "code",
   "execution_count": 87,
   "id": "unnecessary-excess",
   "metadata": {},
   "outputs": [
    {
     "data": {
      "text/plain": [
       "{'Background': 0,\n",
       " 'CompareOrContrast': 1,\n",
       " 'Extends': 2,\n",
       " 'Future': 3,\n",
       " 'Motivation': 4,\n",
       " 'Uses': 5}"
      ]
     },
     "execution_count": 87,
     "metadata": {},
     "output_type": "execute_result"
    }
   ],
   "source": [
    "labels_dict"
   ]
  },
  {
   "cell_type": "code",
   "execution_count": 92,
   "id": "statistical-decimal",
   "metadata": {},
   "outputs": [],
   "source": [
    "def get_f_score(true_file, pred_file):\n",
    "    # true values\n",
    "    true = dict()\n",
    "    with jsonlines.open(true_file) as reader:\n",
    "        for obj in reader:\n",
    "            true[obj['citation_id']] = obj['intent']\n",
    "    \n",
    "    # true+pred values\n",
    "    pairs = dict()\n",
    "    with jsonlines.open(pred_file) as reader:\n",
    "        for obj in reader:\n",
    "            pairs[obj['citation_id']] = [true[obj['citation_id']], obj['prediction']]\n",
    "    \n",
    "    # encode\n",
    "    y_true_pred = list(pairs.values())\n",
    "    y = []\n",
    "    for pair in y_true_pred:\n",
    "        y.append([labels_dict[pair[0]], labels_dict[pair[1]]])\n",
    "    y = np.array(y)\n",
    "    y_true = y[:, 0]\n",
    "    y_pred = y[:, 1]\n",
    "    \n",
    "    #result\n",
    "    f_macro = f1_score(y_true, y_pred, average='macro')\n",
    "    f_micro = f1_score(y_true, y_pred, average='micro')\n",
    "    \n",
    "    print(f\"F_macro={f_macro}, F_micro={f_micro}, n_samples={len(y_pred)}\")\n",
    "    return f_macro, f_micro"
   ]
  },
  {
   "cell_type": "markdown",
   "id": "micro-representation",
   "metadata": {},
   "source": [
    "***DEV***"
   ]
  },
  {
   "cell_type": "code",
   "execution_count": 89,
   "id": "interstate-pride",
   "metadata": {},
   "outputs": [
    {
     "name": "stdout",
     "output_type": "stream",
     "text": [
      "F_macro=0.7468576005374051, F_micro=0.7982456140350878, n_samples=114\n"
     ]
    },
    {
     "data": {
      "text/plain": [
       "(0.7468576005374051, 0.7982456140350878)"
      ]
     },
     "execution_count": 89,
     "metadata": {},
     "output_type": "execute_result"
    }
   ],
   "source": [
    "get_f_score(FILE_DEV_TRUE, FILE_DEV_PRED)"
   ]
  },
  {
   "cell_type": "markdown",
   "id": "parliamentary-saskatchewan",
   "metadata": {},
   "source": [
    "***TEST***"
   ]
  },
  {
   "cell_type": "code",
   "execution_count": 90,
   "id": "seeing-orchestra",
   "metadata": {},
   "outputs": [
    {
     "name": "stdout",
     "output_type": "stream",
     "text": [
      "F_macro=0.68523744281723, F_micro=0.7697841726618704, n_samples=139\n"
     ]
    },
    {
     "data": {
      "text/plain": [
       "(0.68523744281723, 0.7697841726618704)"
      ]
     },
     "execution_count": 90,
     "metadata": {},
     "output_type": "execute_result"
    }
   ],
   "source": [
    "get_f_score(FILE_TEST_TRUE, FILE_TEST_PRED)"
   ]
  },
  {
   "cell_type": "markdown",
   "id": "preliminary-eagle",
   "metadata": {},
   "source": [
    "***TRAIN***"
   ]
  },
  {
   "cell_type": "code",
   "execution_count": 91,
   "id": "protecting-eugene",
   "metadata": {},
   "outputs": [
    {
     "name": "stdout",
     "output_type": "stream",
     "text": [
      "F_macro=0.9830034079930069, F_micro=0.9875592417061612, n_samples=1688\n"
     ]
    },
    {
     "data": {
      "text/plain": [
       "(0.9830034079930069, 0.9875592417061612)"
      ]
     },
     "execution_count": 91,
     "metadata": {},
     "output_type": "execute_result"
    }
   ],
   "source": [
    "get_f_score(FILE_TRAIN_TRUE, FILE_TRAIN_PRED)"
   ]
  },
  {
   "cell_type": "code",
   "execution_count": null,
   "id": "specialized-anchor",
   "metadata": {},
   "outputs": [],
   "source": []
  }
 ],
 "metadata": {
  "kernelspec": {
   "display_name": "Python 3",
   "language": "python",
   "name": "python3"
  },
  "language_info": {
   "codemirror_mode": {
    "name": "ipython",
    "version": 3
   },
   "file_extension": ".py",
   "mimetype": "text/x-python",
   "name": "python",
   "nbconvert_exporter": "python",
   "pygments_lexer": "ipython3",
   "version": "3.8.10"
  }
 },
 "nbformat": 4,
 "nbformat_minor": 5
}
