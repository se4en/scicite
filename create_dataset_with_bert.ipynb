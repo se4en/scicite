{
 "cells": [
  {
   "cell_type": "code",
   "execution_count": 1,
   "id": "c4104305",
   "metadata": {},
   "outputs": [],
   "source": [
    "import jsonlines\n"
   ]
  },
  {
   "cell_type": "code",
   "execution_count": null,
   "id": "8451bb4e",
   "metadata": {},
   "outputs": [],
   "source": [
    "FILE_TEST_TRUE = \"scicite/scicite/data/acl-arc/test.jsonl\"\n",
    "FILE_TEST_TRUE_NEW = \"scicite/scicite/data/acl-arc-test/test.jsonl\"\n",
    "\n",
    "FILE_DEV_TRUE = \"scicite/data/acl-arc/dev.jsonl\"\n",
    "FILE_DEV_TRUE_NEW = \"scicite/scicite/data/acl-arc-test/dev.jsonl\"\n",
    "\n",
    "FILE_TRAIN_TRUE = \"scicite/scicite/data/acl-arc/train.jsonl\"\n",
    "FILE_TRAIN_TRUE_NEW = \"scicite/scicite/data/acl-arc-test/train.jsonl\"\n",
    "\n",
    "FILE_TRAIN_TRUE_SCAF_1 = \"scicite/scicite/data/acl-arc/scaffolds/cite-worthiness-scaffold-train.jsonl\"\n",
    "FILE_TRAIN_TRUE_SCAF_1_NEW = \"scicite/scicite/data/acl-arc-test/scaffolds/cite-worthiness-scaffold-train.jsonl\"\n",
    "\n",
    "FILE_TRAIN_TRUE_SCAF_2 = \"scicite/scicite/data/acl-arc/scaffolds/sections-scaffold-train.jsonl\"\n",
    "FILE_TRAIN_TRUE_SCAF_2_NEW = \"scicite/scicite/data/acl-arc-test/scaffolds/sections-scaffold-train.jsonl\""
   ]
  },
  {
   "cell_type": "code",
   "execution_count": null,
   "id": "3ea6ad08",
   "metadata": {},
   "outputs": [],
   "source": [
    "def rewrite(true_file, new_file, max_cnt):\n",
    "    with jsonlines.open(true_file, 'r') as reader:\n",
    "        with jsonlines.open(new_file, mode='w') as writer:\n",
    "                for i, entry in enumerate(reader):\n",
    "                    writer.write(entry)\n",
    "                    if i == max_cnt:\n",
    "                        break"
   ]
  },
  {
   "cell_type": "code",
   "execution_count": null,
   "id": "e658bc40",
   "metadata": {},
   "outputs": [],
   "source": []
  },
  {
   "cell_type": "code",
   "execution_count": null,
   "id": "e42d14d6",
   "metadata": {},
   "outputs": [],
   "source": []
  },
  {
   "cell_type": "code",
   "execution_count": null,
   "id": "a820a565",
   "metadata": {},
   "outputs": [],
   "source": []
  },
  {
   "cell_type": "code",
   "execution_count": null,
   "id": "aa9fbc97",
   "metadata": {},
   "outputs": [],
   "source": []
  },
  {
   "cell_type": "code",
   "execution_count": null,
   "id": "949454a6",
   "metadata": {},
   "outputs": [],
   "source": []
  },
  {
   "cell_type": "code",
   "execution_count": null,
   "id": "2e7d7330",
   "metadata": {},
   "outputs": [],
   "source": []
  },
  {
   "cell_type": "code",
   "execution_count": null,
   "id": "182ac689",
   "metadata": {},
   "outputs": [],
   "source": []
  },
  {
   "cell_type": "code",
   "execution_count": null,
   "id": "d80723cb",
   "metadata": {},
   "outputs": [],
   "source": []
  },
  {
   "cell_type": "code",
   "execution_count": null,
   "id": "8c51a010",
   "metadata": {},
   "outputs": [],
   "source": []
  },
  {
   "cell_type": "code",
   "execution_count": null,
   "id": "6ca1bec5",
   "metadata": {},
   "outputs": [],
   "source": []
  }
 ],
 "metadata": {
  "kernelspec": {
   "display_name": "Python 3 (ipykernel)",
   "language": "python",
   "name": "python3"
  },
  "language_info": {
   "codemirror_mode": {
    "name": "ipython",
    "version": 3
   },
   "file_extension": ".py",
   "mimetype": "text/x-python",
   "name": "python",
   "nbconvert_exporter": "python",
   "pygments_lexer": "ipython3",
   "version": "3.8.10"
  }
 },
 "nbformat": 4,
 "nbformat_minor": 5
}
