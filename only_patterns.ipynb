{
 "cells": [
  {
   "cell_type": "code",
   "execution_count": 1,
   "id": "565bcf2b",
   "metadata": {},
   "outputs": [
    {
     "name": "stderr",
     "output_type": "stream",
     "text": [
      "/home/dmitry/cit_func/lib/python3.8/site-packages/allennlp/service/predictors/__init__.py:22: FutureWarning: allennlp.service.predictors.* has been depreciated. Please use allennlp.predictors.*\n",
      "  warnings.warn(\"allennlp.service.predictors.* has been depreciated. \"\n",
      "/home/dmitry/cit_func/lib/python3.8/site-packages/allennlp/service/predictors/predictor.py:5: FutureWarning: allennlp.service.predictors.* has been deprecated. Please use allennlp.predictors.*\n",
      "  warnings.warn(\"allennlp.service.predictors.* has been deprecated.\"\n"
     ]
    }
   ],
   "source": [
    "from typing import Dict\n",
    "\n",
    "from scicite.compute_features import get_formulaic_features, get_agent_features"
   ]
  },
  {
   "cell_type": "code",
   "execution_count": 2,
   "id": "bbfdb414",
   "metadata": {},
   "outputs": [],
   "source": [
    "FILE_TEST_TRUE = \"scicite/data/acl-arc/test.jsonl\"\n",
    "FILE_DEV_TRUE = \"scicite/data/acl-arc/dev.jsonl\"\n",
    "FILE_TRAIN_TRUE = \"scicite/data/acl-arc/train.jsonl\"\n",
    "\n",
    "CLASSES = ['Background', 'Uses', 'CompareOrContrast', 'Motivation', 'Extends', 'Future']"
   ]
  },
  {
   "cell_type": "code",
   "execution_count": 3,
   "id": "c497edb3",
   "metadata": {},
   "outputs": [],
   "source": [
    "def compute_all_patterns_features(item: Dict):\n",
    "    formulaic_features, fn_1, __ = get_formulaic_features(item['sents_before'][0], prefix='InCitSent:')\n",
    "    agent_features, fn_2, _ = get_agent_features(item['sents_before'][0], prefix='InCitSent:')\n",
    "    fn_3, fn_4 = [], []\n",
    "    \n",
    "    formulaic_clause_features = formulaic_features\n",
    "    agent_clause_features = agent_features\n",
    "    if len(item['sents_before']) > 1:\n",
    "        for cur_sentence in item['sents_before'][1:]:\n",
    "            _formulaic_features, fn_3, _ = get_formulaic_features(cur_sentence, prefix='InClause:')\n",
    "            _agent_features, fn_4, _ = get_agent_features(cur_sentence, prefix='InClause:')\n",
    "            formulaic_clause_features = [f_1 or f_2 for f_1, f_2 in zip(formulaic_clause_features,\n",
    "                                                                        _formulaic_features)]\n",
    "            agent_clause_features = [f_1 or f_2 for f_1, f_2 in zip(agent_clause_features,\n",
    "                                                                    _agent_features)]\n",
    "    for cur_sentence in item['sents_after']:\n",
    "        _formulaic_features, _, _ = get_formulaic_features(cur_sentence, prefix='InClause:')\n",
    "        _agent_features, _, _ = get_agent_features(cur_sentence, prefix='InClause:')\n",
    "        formulaic_clause_features = [f_1 or f_2 for f_1, f_2 in zip(formulaic_clause_features,\n",
    "                                                                    _formulaic_features)]\n",
    "        agent_clause_features = [f_1 or f_2 for f_1, f_2 in zip(agent_clause_features,\n",
    "                                                                _agent_features)]\n",
    "        \n",
    "\n",
    "    x = formulaic_features + agent_features + formulaic_clause_features + agent_clause_features \n",
    "    y = CLASSES.index(item['intent'])\n",
    "    feature_names = fn_1 + fn_2\n",
    "    if fn_3:\n",
    "        feature_names += fn_3 + fn_4 \n",
    "    return x, y, feature_names"
   ]
  },
  {
   "cell_type": "code",
   "execution_count": 4,
   "id": "c94d4296",
   "metadata": {},
   "outputs": [],
   "source": [
    "def create_data():\n",
    "    X = []\n",
    "    y = []\n",
    "\n",
    "    with jsonlines.open(FILE_TEST_TRUE, 'r') as reader:\n",
    "        for item in reader:\n",
    "            _x, _y, _ = compute_all_patterns_features(item)\n",
    "            X.append(_x)\n",
    "            y.append(_y)\n",
    "    \n",
    "    with jsonlines.open(FILE_DEV_TRUE, 'r') as reader:\n",
    "        for item in reader:\n",
    "            _x, _y, _ = compute_all_patterns_features(item)\n",
    "            X.append(_x)\n",
    "            y.append(_y)\n",
    "    \n",
    "    with jsonlines.open(FILE_TRAIN_TRUE, 'r') as reader:\n",
    "        for item in reader:\n",
    "            _x, _y, _ = compute_all_patterns_features(item)\n",
    "            X.append(_x)\n",
    "            y.append(_y)\n",
    "    \n",
    "    return np.array(X), np.array(y)"
   ]
  },
  {
   "cell_type": "code",
   "execution_count": 5,
   "id": "f13acfb2",
   "metadata": {},
   "outputs": [],
   "source": [
    "X, y = create_data()"
   ]
  },
  {
   "cell_type": "code",
   "execution_count": 6,
   "id": "3d2b39ae",
   "metadata": {},
   "outputs": [
    {
     "data": {
      "text/plain": [
       "(1941, 112)"
      ]
     },
     "execution_count": 6,
     "metadata": {},
     "output_type": "execute_result"
    }
   ],
   "source": [
    "X.shape"
   ]
  },
  {
   "cell_type": "code",
   "execution_count": 7,
   "id": "ef8053a3",
   "metadata": {},
   "outputs": [
    {
     "data": {
      "text/plain": [
       "(1941,)"
      ]
     },
     "execution_count": 7,
     "metadata": {},
     "output_type": "execute_result"
    }
   ],
   "source": [
    "y.shape"
   ]
  },
  {
   "cell_type": "code",
   "execution_count": 8,
   "id": "3ad14cad",
   "metadata": {},
   "outputs": [],
   "source": [
    "with jsonlines.open(FILE_TRAIN_TRUE, 'r') as reader:\n",
    "    for item in reader:\n",
    "        _, _, feature_names = compute_all_patterns_features(item)\n",
    "        break"
   ]
  },
  {
   "cell_type": "code",
   "execution_count": 9,
   "id": "7b240d65",
   "metadata": {},
   "outputs": [],
   "source": [
    "#feature_names"
   ]
  },
  {
   "cell_type": "markdown",
   "id": "e93c526f",
   "metadata": {},
   "source": [
    " "
   ]
  },
  {
   "cell_type": "markdown",
   "id": "64c36654",
   "metadata": {},
   "source": [
    " "
   ]
  },
  {
   "cell_type": "code",
   "execution_count": 10,
   "id": "dfeaf481",
   "metadata": {},
   "outputs": [],
   "source": [
    "from sklearn.linear_model import LogisticRegression, LogisticRegressionCV\n",
    "from sklearn.model_selection import cross_val_score"
   ]
  },
  {
   "cell_type": "code",
   "execution_count": 11,
   "id": "0b3d16f3",
   "metadata": {},
   "outputs": [],
   "source": [
    "clf = LogisticRegression(multi_class='multinomial')\n",
    "scores = cross_val_score(clf, X, y, scoring='f1_macro', cv=5)"
   ]
  },
  {
   "cell_type": "code",
   "execution_count": 12,
   "id": "ad643a69",
   "metadata": {},
   "outputs": [
    {
     "data": {
      "text/plain": [
       "0.4828052889281137"
      ]
     },
     "execution_count": 12,
     "metadata": {},
     "output_type": "execute_result"
    }
   ],
   "source": [
    "scores.mean()"
   ]
  },
  {
   "cell_type": "code",
   "execution_count": 13,
   "id": "1edb2839",
   "metadata": {},
   "outputs": [],
   "source": [
    "scores = cross_val_score(clf, X, y, scoring='f1_micro', cv=5)"
   ]
  },
  {
   "cell_type": "code",
   "execution_count": 14,
   "id": "59e5127e",
   "metadata": {},
   "outputs": [
    {
     "data": {
      "text/plain": [
       "0.6234145177960936"
      ]
     },
     "execution_count": 14,
     "metadata": {},
     "output_type": "execute_result"
    }
   ],
   "source": [
    "scores.mean()"
   ]
  },
  {
   "cell_type": "markdown",
   "id": "53b487e7",
   "metadata": {},
   "source": [
    " "
   ]
  },
  {
   "cell_type": "markdown",
   "id": "2cc0f09e",
   "metadata": {},
   "source": [
    " "
   ]
  },
  {
   "cell_type": "code",
   "execution_count": 15,
   "id": "41016cf4",
   "metadata": {},
   "outputs": [
    {
     "data": {
      "text/plain": [
       "LogisticRegression(multi_class='multinomial')"
      ]
     },
     "execution_count": 15,
     "metadata": {},
     "output_type": "execute_result"
    }
   ],
   "source": [
    "clf.fit(X, y)"
   ]
  },
  {
   "cell_type": "code",
   "execution_count": 16,
   "id": "94ace0e4",
   "metadata": {},
   "outputs": [],
   "source": [
    "coeffs = clf.coef_"
   ]
  },
  {
   "cell_type": "markdown",
   "id": "ded26935",
   "metadata": {},
   "source": [
    " "
   ]
  },
  {
   "cell_type": "markdown",
   "id": "0a59f4e0",
   "metadata": {},
   "source": [
    "By class:"
   ]
  },
  {
   "cell_type": "markdown",
   "id": "f38b6233",
   "metadata": {},
   "source": [
    "      'Background': 997,\n",
    " \n",
    "      'Uses': 364,\n",
    "      \n",
    "      'CompareOrContrast': 351,\n",
    "      \n",
    "      'Motivation': 88,\n",
    "      \n",
    "      'Extends': 72,\n",
    "      \n",
    "      'Future': 69    "
   ]
  },
  {
   "cell_type": "code",
   "execution_count": 17,
   "id": "6f5c3473",
   "metadata": {},
   "outputs": [
    {
     "data": {
      "text/plain": [
       "['Background', 'Uses', 'CompareOrContrast', 'Motivation', 'Extends', 'Future']"
      ]
     },
     "execution_count": 17,
     "metadata": {},
     "output_type": "execute_result"
    }
   ],
   "source": [
    "CLASSES"
   ]
  },
  {
   "cell_type": "code",
   "execution_count": 18,
   "id": "82c3f73b",
   "metadata": {},
   "outputs": [],
   "source": [
    "def get_cv_score_by_class(class_: str, metric: str = 'f1'):\n",
    "    y_ = y == CLASSES.index(class_)\n",
    "    clf = LogisticRegression(multi_class='multinomial')\n",
    "    scores = cross_val_score(clf, X, y_, scoring=metric, cv=5)\n",
    "    return scores.mean()"
   ]
  },
  {
   "cell_type": "code",
   "execution_count": 19,
   "id": "61d62681",
   "metadata": {},
   "outputs": [
    {
     "name": "stdout",
     "output_type": "stream",
     "text": [
      "Class=Background, F1=0.7261306355435259\n",
      "\n",
      "Class=Uses, F1=0.4565809737046118\n",
      "\n",
      "Class=CompareOrContrast, F1=0.26949236350631156\n",
      "\n",
      "Class=Motivation, F1=0.4437678413540483\n",
      "\n",
      "Class=Extends, F1=0.4432995532309033\n",
      "\n",
      "Class=Future, F1=0.4645680332739156\n",
      "\n"
     ]
    }
   ],
   "source": [
    "for cls in CLASSES:\n",
    "    print(f\"Class={cls}, F1={get_cv_score_by_class(cls)}\\n\")"
   ]
  },
  {
   "cell_type": "code",
   "execution_count": 20,
   "id": "e4c4bc71",
   "metadata": {},
   "outputs": [
    {
     "name": "stdout",
     "output_type": "stream",
     "text": [
      "Class=Background, Precision=0.6748134880595462\n",
      "\n",
      "Class=Uses, Precision=0.7746706805327495\n",
      "\n",
      "Class=CompareOrContrast, Precision=0.6372750503710256\n",
      "\n",
      "Class=Motivation, Precision=0.8011904761904762\n",
      "\n",
      "Class=Extends, Precision=0.7314285714285714\n",
      "\n",
      "Class=Future, Precision=0.8019480519480521\n",
      "\n"
     ]
    }
   ],
   "source": [
    "for cls in CLASSES:\n",
    "    print(f\"Class={cls}, Precision={get_cv_score_by_class(cls, 'precision')}\\n\")"
   ]
  },
  {
   "cell_type": "code",
   "execution_count": 21,
   "id": "9a4c4a2a",
   "metadata": {},
   "outputs": [
    {
     "name": "stdout",
     "output_type": "stream",
     "text": [
      "Class=Background, Recall=0.7863618090452261\n",
      "\n",
      "Class=Uses, Recall=0.3269786910197869\n",
      "\n",
      "Class=CompareOrContrast, Recall=0.17106639839034204\n",
      "\n",
      "Class=Motivation, Recall=0.31830065359477117\n",
      "\n",
      "Class=Extends, Recall=0.31999999999999995\n",
      "\n",
      "Class=Future, Recall=0.34835164835164834\n",
      "\n"
     ]
    }
   ],
   "source": [
    "for cls in CLASSES:\n",
    "    print(f\"Class={cls}, Recall={get_cv_score_by_class(cls, 'recall')}\\n\")"
   ]
  },
  {
   "cell_type": "markdown",
   "id": "b5e3ad75",
   "metadata": {},
   "source": [
    " "
   ]
  },
  {
   "cell_type": "markdown",
   "id": "5354a0c7",
   "metadata": {},
   "source": [
    "Error matrix:"
   ]
  },
  {
   "cell_type": "markdown",
   "id": "a2eb8a82",
   "metadata": {},
   "source": [
    " "
   ]
  },
  {
   "cell_type": "code",
   "execution_count": 22,
   "id": "2c5bd9a0",
   "metadata": {},
   "outputs": [],
   "source": [
    "from sklearn.metrics import confusion_matrix\n",
    "import seaborn as sn\n",
    "import pandas as pd\n",
    "import matplotlib.pyplot as plt"
   ]
  },
  {
   "cell_type": "code",
   "execution_count": 51,
   "id": "bcd716bf",
   "metadata": {},
   "outputs": [],
   "source": [
    "FILE_TEST_PRED = \"[TEST]_pred_weights.jsonl\"\n",
    "FILE_TEST_PRED_ONLY_BERT = \"pred_test_with_bert.jsonl\"\n",
    "FILE_TEST_TRUE = \"scicite/data/acl-arc/test.jsonl\"\n",
    "\n",
    "FILE_DEV_PRED = \"[DEV]_pred_weights.jsonl\"\n",
    "FILE_DEV_PRED_ONLY_BERT = \"pred_dev_with_bert.jsonl\"\n",
    "FILE_DEV_TRUE = \"scicite/data/acl-arc/dev.jsonl\"\n",
    "\n",
    "FILE_TRAIN_PRED = \"[TRAIN]_pred_weights.jsonl\"\n",
    "FILE_TRAIN_PRED_ONLY_BERT = \"pred_train_with_bert.jsonl\"\n",
    "FILE_TRAIN_TRUE = \"scicite/data/acl-arc/train.jsonl\""
   ]
  },
  {
   "cell_type": "code",
   "execution_count": 30,
   "id": "f07e439d",
   "metadata": {},
   "outputs": [],
   "source": [
    "def get_true_pred(true_file, pred_file):\n",
    "    # true values\n",
    "    true = dict()\n",
    "    with jsonlines.open(true_file) as reader:\n",
    "        for obj in reader:\n",
    "            true[obj['citation_id']] = obj['intent']\n",
    "    \n",
    "    # true+pred values\n",
    "    pairs = dict()\n",
    "    with jsonlines.open(pred_file) as reader:\n",
    "        for obj in reader:\n",
    "            pairs[obj['citation_id']] = [true[obj['citation_id']], obj['prediction']]\n",
    "    \n",
    "    # encode\n",
    "    y_true_pred = list(pairs.values())\n",
    "    y = []\n",
    "    for pair in y_true_pred:\n",
    "        y.append([CLASSES.index(pair[0]), CLASSES.index(pair[1])])\n",
    "    y = np.array(y)\n",
    "    y_true = y[:, 0]\n",
    "    y_pred = y[:, 1]\n",
    "    \n",
    "    return y_true, y_pred"
   ]
  },
  {
   "cell_type": "code",
   "execution_count": 33,
   "id": "e78d201c",
   "metadata": {},
   "outputs": [],
   "source": [
    "y_true_test, y_pred_test = get_true_pred(FILE_TEST_TRUE, FILE_TEST_PRED)"
   ]
  },
  {
   "cell_type": "code",
   "execution_count": 35,
   "id": "9a139cd2",
   "metadata": {},
   "outputs": [],
   "source": [
    "y_true_dev, y_pred_dev = get_true_pred(FILE_DEV_TRUE, FILE_DEV_PRED)"
   ]
  },
  {
   "cell_type": "code",
   "execution_count": 37,
   "id": "84906684",
   "metadata": {},
   "outputs": [],
   "source": [
    "y_true_train, y_pred_train = get_true_pred(FILE_TRAIN_TRUE, FILE_TRAIN_PRED)"
   ]
  },
  {
   "cell_type": "code",
   "execution_count": 48,
   "id": "746734e5",
   "metadata": {},
   "outputs": [],
   "source": [
    "y_true_all = np.concatenate((y_true_test, y_true_dev, y_true_train))\n",
    "y_pred_all = np.concatenate((y_pred_test, y_pred_dev, y_pred_train))"
   ]
  },
  {
   "cell_type": "code",
   "execution_count": 49,
   "id": "c726be87",
   "metadata": {},
   "outputs": [],
   "source": [
    "error_matrix_all = confusion_matrix(y_true_all, y_pred_all)"
   ]
  },
  {
   "cell_type": "code",
   "execution_count": 34,
   "id": "a6968354",
   "metadata": {},
   "outputs": [],
   "source": [
    "error_matrix = confusion_matrix(y_true_test, y_pred_test)"
   ]
  },
  {
   "cell_type": "markdown",
   "id": "80442ac5",
   "metadata": {},
   "source": [
    "***Only validation:***"
   ]
  },
  {
   "cell_type": "code",
   "execution_count": 27,
   "id": "84f573ff",
   "metadata": {},
   "outputs": [
    {
     "data": {
      "image/png": "[encoded data removed]",
      "text/plain": [
       "<Figure size 720x504 with 2 Axes>"
      ]
     },
     "metadata": {
      "needs_background": "light"
     },
     "output_type": "display_data"
    }
   ],
   "source": [
    "df_cm = pd.DataFrame(error_matrix, index = CLASSES, columns = CLASSES)\n",
    "plt.figure(figsize = (10,7))\n",
    "cmap = sn.cm.rocket_r\n",
    "sn.heatmap(df_cm, annot=True, cmap=cmap)\n",
    "\n",
    "plt.ylabel(\"Predicted labels\")\n",
    "plt.xlabel(\"True labels\")\n",
    "plt.show()"
   ]
  },
  {
   "cell_type": "markdown",
   "id": "3bf975ee",
   "metadata": {},
   "source": [
    "***All data:***"
   ]
  },
  {
   "cell_type": "code",
   "execution_count": 71,
   "id": "feca1f18",
   "metadata": {},
   "outputs": [
    {
     "data": {
      "image/png": "[encoded data removed]",
      "text/plain": [
       "<Figure size 720x504 with 2 Axes>"
      ]
     },
     "metadata": {
      "needs_background": "light"
     },
     "output_type": "display_data"
    }
   ],
   "source": [
    "df_cm = pd.DataFrame(error_matrix_all, index = CLASSES, columns = CLASSES)\n",
    "plt.figure(figsize = (10,7))\n",
    "cmap = sn.cm.rocket_r\n",
    "sn.heatmap(df_cm, annot=True, cmap=cmap)\n",
    "\n",
    "plt.title(\"Scibert with class weights\")\n",
    "plt.ylabel(\"Predicted labels\")\n",
    "plt.xlabel(\"True labels\")\n",
    "plt.show()"
   ]
  },
  {
   "cell_type": "markdown",
   "id": "f383e81c",
   "metadata": {},
   "source": [
    " "
   ]
  },
  {
   "cell_type": "markdown",
   "id": "8b7fbe18",
   "metadata": {},
   "source": [
    "only sciBERT"
   ]
  },
  {
   "cell_type": "markdown",
   "id": "74f08a01",
   "metadata": {},
   "source": [
    " "
   ]
  },
  {
   "cell_type": "code",
   "execution_count": 64,
   "id": "cd505ebc",
   "metadata": {},
   "outputs": [],
   "source": [
    "y_true_test_only, y_pred_test_only = get_true_pred(FILE_TEST_TRUE, FILE_TEST_PRED_ONLY_BERT)"
   ]
  },
  {
   "cell_type": "code",
   "execution_count": 65,
   "id": "8172e45b",
   "metadata": {},
   "outputs": [],
   "source": [
    "y_true_dev_only, y_pred_dev_only = get_true_pred(FILE_DEV_TRUE, FILE_DEV_PRED_ONLY_BERT)"
   ]
  },
  {
   "cell_type": "code",
   "execution_count": 66,
   "id": "a3c06c65",
   "metadata": {},
   "outputs": [],
   "source": [
    "y_true_train_only, y_pred_train_only = get_true_pred(FILE_TRAIN_TRUE, FILE_TRAIN_PRED_ONLY_BERT)"
   ]
  },
  {
   "cell_type": "code",
   "execution_count": 67,
   "id": "f0ce9247",
   "metadata": {},
   "outputs": [],
   "source": [
    "y_true_all_only = np.concatenate((y_true_test_only, y_true_dev_only, y_true_train_only))\n",
    "y_pred_all_only = np.concatenate((y_pred_test_only, y_pred_dev_only, y_pred_train_only))"
   ]
  },
  {
   "cell_type": "code",
   "execution_count": 72,
   "id": "88d8a1b2",
   "metadata": {},
   "outputs": [],
   "source": [
    "error_matrix_test_all_only = confusion_matrix(y_true_test_only, y_true_test_only)"
   ]
  },
  {
   "cell_type": "code",
   "execution_count": 68,
   "id": "4b0c680e",
   "metadata": {},
   "outputs": [],
   "source": [
    "error_matrix_all_only = confusion_matrix(y_true_all_only, y_pred_all_only)"
   ]
  },
  {
   "cell_type": "markdown",
   "id": "38a33e02",
   "metadata": {},
   "source": [
    "***All data***:"
   ]
  },
  {
   "cell_type": "code",
   "execution_count": 70,
   "id": "3dd67e36",
   "metadata": {},
   "outputs": [
    {
     "data": {
      "image/png": "[encoded data removed]",
      "text/plain": [
       "<Figure size 720x504 with 2 Axes>"
      ]
     },
     "metadata": {
      "needs_background": "light"
     },
     "output_type": "display_data"
    }
   ],
   "source": [
    "df_cm = pd.DataFrame(error_matrix_all_only, index = CLASSES, columns = CLASSES)\n",
    "plt.figure(figsize = (10,7))\n",
    "cmap = sn.cm.rocket_r\n",
    "sn.heatmap(df_cm, annot=True, cmap=cmap)\n",
    "\n",
    "plt.title(\"Only scibert\")\n",
    "plt.ylabel(\"Predicted labels\")\n",
    "plt.xlabel(\"True labels\")\n",
    "plt.show()"
   ]
  },
  {
   "cell_type": "code",
   "execution_count": null,
   "id": "d6ccb84b",
   "metadata": {},
   "outputs": [],
   "source": []
  }
 ],
 "metadata": {
  "kernelspec": {
   "display_name": "Python 3 (ipykernel)",
   "language": "python",
   "name": "python3"
  },
  "language_info": {
   "codemirror_mode": {
    "name": "ipython",
    "version": 3
   },
   "file_extension": ".py",
   "mimetype": "text/x-python",
   "name": "python",
   "nbconvert_exporter": "python",
   "pygments_lexer": "ipython3",
   "version": "3.8.10"
  }
 },
 "nbformat": 4,
 "nbformat_minor": 5
}
