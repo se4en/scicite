{
 "cells": [
  {
   "cell_type": "code",
   "execution_count": 16,
   "id": "81696386",
   "metadata": {},
   "outputs": [],
   "source": [
    "import jsonlines\n",
    "import numpy as np\n",
    "from typing import Dict\n",
    "\n",
    "from scicite.compute_features import get_formulaic_features, get_agent_features"
   ]
  },
  {
   "cell_type": "code",
   "execution_count": 18,
   "id": "8b9eeb8e",
   "metadata": {},
   "outputs": [],
   "source": [
    "FILE_TEST_TRUE = \"scicite/data/acl-arc/test.jsonl\"\n",
    "FILE_DEV_TRUE = \"scicite/data/acl-arc/dev.jsonl\"\n",
    "FILE_TRAIN_TRUE = \"scicite/data/acl-arc/train.jsonl\"\n",
    "\n",
    "CLASSES = ['Background', 'Uses', 'CompareOrContrast', 'Motivation', 'Extends', 'Future']"
   ]
  },
  {
   "cell_type": "code",
   "execution_count": 26,
   "id": "b90c7a7f",
   "metadata": {},
   "outputs": [],
   "source": [
    "def compute_all_patterns_features(item: Dict):\n",
    "    formulaic_features, fn_1, __ = get_formulaic_features(item['sents_before'][0], prefix='InCitSent:')\n",
    "    agent_features, fn_2, _ = get_agent_features(item['sents_before'][0], prefix='InCitSent:')\n",
    "    fn_3, fn_4 = [], []\n",
    "    \n",
    "    formulaic_clause_features = formulaic_features\n",
    "    agent_clause_features = agent_features\n",
    "    if len(item['sents_before']) > 1:\n",
    "        for cur_sentence in item['sents_before'][1:]:\n",
    "            _formulaic_features, fn_3, _ = get_formulaic_features(cur_sentence, prefix='InClause:')\n",
    "            _agent_features, fn_4, _ = get_agent_features(cur_sentence, prefix='InClause:')\n",
    "            formulaic_clause_features = [f_1 or f_2 for f_1, f_2 in zip(formulaic_clause_features,\n",
    "                                                                        _formulaic_features)]\n",
    "            agent_clause_features = [f_1 or f_2 for f_1, f_2 in zip(agent_clause_features,\n",
    "                                                                    _agent_features)]\n",
    "    for cur_sentence in item['sents_after']:\n",
    "        _formulaic_features, _, _ = get_formulaic_features(cur_sentence, prefix='InClause:')\n",
    "        _agent_features, _, _ = get_agent_features(cur_sentence, prefix='InClause:')\n",
    "        formulaic_clause_features = [f_1 or f_2 for f_1, f_2 in zip(formulaic_clause_features,\n",
    "                                                                    _formulaic_features)]\n",
    "        agent_clause_features = [f_1 or f_2 for f_1, f_2 in zip(agent_clause_features,\n",
    "                                                                _agent_features)]\n",
    "        \n",
    "\n",
    "    x = formulaic_features + agent_features + formulaic_clause_features + agent_clause_features \n",
    "    y = CLASSES.index(item['intent'])\n",
    "    feature_names = fn_1 + fn_2\n",
    "    if fn_3:\n",
    "        feature_names += fn_3 + fn_4 \n",
    "    return x, y, feature_names"
   ]
  },
  {
   "cell_type": "code",
   "execution_count": 30,
   "id": "fa7e0eb0",
   "metadata": {},
   "outputs": [],
   "source": [
    "def create_data():\n",
    "    X = []\n",
    "    y = []\n",
    "\n",
    "    with jsonlines.open(FILE_TEST_TRUE, 'r') as reader:\n",
    "        for item in reader:\n",
    "            _x, _y, _ = compute_all_patterns_features(item)\n",
    "            X.append(_x)\n",
    "            y.append(_y)\n",
    "    \n",
    "    with jsonlines.open(FILE_DEV_TRUE, 'r') as reader:\n",
    "        for item in reader:\n",
    "            _x, _y, _ = compute_all_patterns_features(item)\n",
    "            X.append(_x)\n",
    "            y.append(_y)\n",
    "    \n",
    "    with jsonlines.open(FILE_TRAIN_TRUE, 'r') as reader:\n",
    "        for item in reader:\n",
    "            _x, _y, _ = compute_all_patterns_features(item)\n",
    "            X.append(_x)\n",
    "            y.append(_y)\n",
    "    \n",
    "    return np.array(X), np.array(y)"
   ]
  },
  {
   "cell_type": "code",
   "execution_count": 31,
   "id": "7202cb88",
   "metadata": {},
   "outputs": [],
   "source": [
    "X, y = create_data()"
   ]
  },
  {
   "cell_type": "code",
   "execution_count": 32,
   "id": "d4760bbd",
   "metadata": {},
   "outputs": [
    {
     "data": {
      "text/plain": [
       "(1941, 112)"
      ]
     },
     "execution_count": 32,
     "metadata": {},
     "output_type": "execute_result"
    }
   ],
   "source": [
    "X.shape"
   ]
  },
  {
   "cell_type": "code",
   "execution_count": 33,
   "id": "0f1566ba",
   "metadata": {},
   "outputs": [
    {
     "data": {
      "text/plain": [
       "(1941,)"
      ]
     },
     "execution_count": 33,
     "metadata": {},
     "output_type": "execute_result"
    }
   ],
   "source": [
    "y.shape"
   ]
  },
  {
   "cell_type": "code",
   "execution_count": 48,
   "id": "d97a769a",
   "metadata": {},
   "outputs": [],
   "source": [
    "with jsonlines.open(FILE_TRAIN_TRUE, 'r') as reader:\n",
    "    for item in reader:\n",
    "        _, _, feature_names = compute_all_patterns_features(item)\n",
    "        break"
   ]
  },
  {
   "cell_type": "code",
   "execution_count": 49,
   "id": "dad38492",
   "metadata": {},
   "outputs": [
    {
     "data": {
      "text/plain": [
       "['InCitSent:GENERAL_FORMULAIC',\n",
       " 'InCitSent:THEM_FORMULAIC',\n",
       " 'InCitSent:US_PREVIOUS_FORMULAIC',\n",
       " 'InCitSent:TEXTSTRUCTURE_FORMULAIC',\n",
       " 'InCitSent:HERE_FORMULAIC',\n",
       " 'InCitSent:METHOD_FORMULAIC',\n",
       " 'InCitSent:CONTINUE_FORMULAIC',\n",
       " 'InCitSent:DISCOURSE_CONTRAST_FORMULAIC',\n",
       " 'InCitSent:GRAPHIC_FORMULAIC',\n",
       " 'InCitSent:CONTRAST2_FORMULAIC',\n",
       " 'InCitSent:COMPARISON_FORMULAIC',\n",
       " 'InCitSent:CONTRAST_FORMULAIC',\n",
       " 'InCitSent:ALIGN_FORMULAIC',\n",
       " 'InCitSent:AFFECT_FORMULAIC',\n",
       " 'InCitSent:GOOD_FORMULAIC',\n",
       " 'InCitSent:TRADITION_FORMULAIC',\n",
       " 'InCitSent:IN_ORDER_TO_FORMULAIC',\n",
       " 'InCitSent:DETAIL_FORMULAIC',\n",
       " 'InCitSent:NO_TEXTSTRUCTURE_FORMULAIC',\n",
       " 'InCitSent:USE_FORMULAIC',\n",
       " 'InCitSent:FUTURE_WORK_FORMULAIC',\n",
       " 'InCitSent:HEDGING_FORMULAIC',\n",
       " 'InCitSent:PRESENT_WORK_FORMULAIC',\n",
       " 'InCitSent:EXTENDING_WORK_FORMULAIC',\n",
       " 'InCitSent:EXTENDING_WORK2_FORMULAIC',\n",
       " 'InCitSent:USEFUL_FORMULAIC',\n",
       " 'InCitSent:MOTIVATING_FORMULAIC',\n",
       " 'InCitSent:PRIOR_WORK_FORMULAIC',\n",
       " 'InCitSent:US_AGENT (AS_FORM)',\n",
       " 'InCitSent:REF_US_AGENT (AS_FORM)',\n",
       " 'InCitSent:OUR_AIM_AGENT (AS_FORM)',\n",
       " 'InCitSent:AIM_REF_AGENT (AS_FORM)',\n",
       " 'InCitSent:US_PREVIOUS_AGENT (AS_FORM)',\n",
       " 'InCitSent:REF_AGENT (AS_FORM)',\n",
       " 'InCitSent:THEM_PRONOUN_AGENT (AS_FORM)',\n",
       " 'InCitSent:THEM_ACTIVE_AGENT (AS_FORM)',\n",
       " 'InCitSent:THEM_AGENT (AS_FORM)',\n",
       " 'InCitSent:GAP_AGENT (AS_FORM)',\n",
       " 'InCitSent:GENERAL_AGENT (AS_FORM)',\n",
       " 'InCitSent:PROBLEM_AGENT (AS_FORM)',\n",
       " 'InCitSent:SOLUTION_AGENT (AS_FORM)',\n",
       " 'InCitSent:TEXTSTRUCTURE_AGENT (AS_FORM)',\n",
       " 'InCitSent:US_AGENT (AS_AGENT)',\n",
       " 'InCitSent:REF_US_AGENT (AS_AGENT)',\n",
       " 'InCitSent:OUR_AIM_AGENT (AS_AGENT)',\n",
       " 'InCitSent:AIM_REF_AGENT (AS_AGENT)',\n",
       " 'InCitSent:US_PREVIOUS_AGENT (AS_AGENT)',\n",
       " 'InCitSent:REF_AGENT (AS_AGENT)',\n",
       " 'InCitSent:THEM_PRONOUN_AGENT (AS_AGENT)',\n",
       " 'InCitSent:THEM_ACTIVE_AGENT (AS_AGENT)',\n",
       " 'InCitSent:THEM_AGENT (AS_AGENT)',\n",
       " 'InCitSent:GAP_AGENT (AS_AGENT)',\n",
       " 'InCitSent:GENERAL_AGENT (AS_AGENT)',\n",
       " 'InCitSent:PROBLEM_AGENT (AS_AGENT)',\n",
       " 'InCitSent:SOLUTION_AGENT (AS_AGENT)',\n",
       " 'InCitSent:TEXTSTRUCTURE_AGENT (AS_AGENT)',\n",
       " 'InClause:GENERAL_FORMULAIC',\n",
       " 'InClause:THEM_FORMULAIC',\n",
       " 'InClause:US_PREVIOUS_FORMULAIC',\n",
       " 'InClause:TEXTSTRUCTURE_FORMULAIC',\n",
       " 'InClause:HERE_FORMULAIC',\n",
       " 'InClause:METHOD_FORMULAIC',\n",
       " 'InClause:CONTINUE_FORMULAIC',\n",
       " 'InClause:DISCOURSE_CONTRAST_FORMULAIC',\n",
       " 'InClause:GRAPHIC_FORMULAIC',\n",
       " 'InClause:CONTRAST2_FORMULAIC',\n",
       " 'InClause:COMPARISON_FORMULAIC',\n",
       " 'InClause:CONTRAST_FORMULAIC',\n",
       " 'InClause:ALIGN_FORMULAIC',\n",
       " 'InClause:AFFECT_FORMULAIC',\n",
       " 'InClause:GOOD_FORMULAIC',\n",
       " 'InClause:TRADITION_FORMULAIC',\n",
       " 'InClause:IN_ORDER_TO_FORMULAIC',\n",
       " 'InClause:DETAIL_FORMULAIC',\n",
       " 'InClause:NO_TEXTSTRUCTURE_FORMULAIC',\n",
       " 'InClause:USE_FORMULAIC',\n",
       " 'InClause:FUTURE_WORK_FORMULAIC',\n",
       " 'InClause:HEDGING_FORMULAIC',\n",
       " 'InClause:PRESENT_WORK_FORMULAIC',\n",
       " 'InClause:EXTENDING_WORK_FORMULAIC',\n",
       " 'InClause:EXTENDING_WORK2_FORMULAIC',\n",
       " 'InClause:USEFUL_FORMULAIC',\n",
       " 'InClause:MOTIVATING_FORMULAIC',\n",
       " 'InClause:PRIOR_WORK_FORMULAIC',\n",
       " 'InClause:US_AGENT (AS_FORM)',\n",
       " 'InClause:REF_US_AGENT (AS_FORM)',\n",
       " 'InClause:OUR_AIM_AGENT (AS_FORM)',\n",
       " 'InClause:AIM_REF_AGENT (AS_FORM)',\n",
       " 'InClause:US_PREVIOUS_AGENT (AS_FORM)',\n",
       " 'InClause:REF_AGENT (AS_FORM)',\n",
       " 'InClause:THEM_PRONOUN_AGENT (AS_FORM)',\n",
       " 'InClause:THEM_ACTIVE_AGENT (AS_FORM)',\n",
       " 'InClause:THEM_AGENT (AS_FORM)',\n",
       " 'InClause:GAP_AGENT (AS_FORM)',\n",
       " 'InClause:GENERAL_AGENT (AS_FORM)',\n",
       " 'InClause:PROBLEM_AGENT (AS_FORM)',\n",
       " 'InClause:SOLUTION_AGENT (AS_FORM)',\n",
       " 'InClause:TEXTSTRUCTURE_AGENT (AS_FORM)',\n",
       " 'InClause:US_AGENT (AS_AGENT)',\n",
       " 'InClause:REF_US_AGENT (AS_AGENT)',\n",
       " 'InClause:OUR_AIM_AGENT (AS_AGENT)',\n",
       " 'InClause:AIM_REF_AGENT (AS_AGENT)',\n",
       " 'InClause:US_PREVIOUS_AGENT (AS_AGENT)',\n",
       " 'InClause:REF_AGENT (AS_AGENT)',\n",
       " 'InClause:THEM_PRONOUN_AGENT (AS_AGENT)',\n",
       " 'InClause:THEM_ACTIVE_AGENT (AS_AGENT)',\n",
       " 'InClause:THEM_AGENT (AS_AGENT)',\n",
       " 'InClause:GAP_AGENT (AS_AGENT)',\n",
       " 'InClause:GENERAL_AGENT (AS_AGENT)',\n",
       " 'InClause:PROBLEM_AGENT (AS_AGENT)',\n",
       " 'InClause:SOLUTION_AGENT (AS_AGENT)',\n",
       " 'InClause:TEXTSTRUCTURE_AGENT (AS_AGENT)']"
      ]
     },
     "execution_count": 49,
     "metadata": {},
     "output_type": "execute_result"
    }
   ],
   "source": [
    "feature_names"
   ]
  },
  {
   "cell_type": "markdown",
   "id": "9bc7800d",
   "metadata": {},
   "source": [
    " "
   ]
  },
  {
   "cell_type": "markdown",
   "id": "9c3214db",
   "metadata": {},
   "source": [
    " "
   ]
  },
  {
   "cell_type": "code",
   "execution_count": 41,
   "id": "6ba39e85",
   "metadata": {},
   "outputs": [],
   "source": [
    "from sklearn.linear_model import LogisticRegression, LogisticRegressionCV\n",
    "from sklearn.model_selection import cross_val_score"
   ]
  },
  {
   "cell_type": "code",
   "execution_count": 57,
   "id": "e2fa6064",
   "metadata": {},
   "outputs": [],
   "source": [
    "clf = LogisticRegression(multi_class='multinomial')\n",
    "scores = cross_val_score(clf, X, y, scoring='f1_macro', cv=5)"
   ]
  },
  {
   "cell_type": "code",
   "execution_count": 43,
   "id": "f11308f2",
   "metadata": {},
   "outputs": [
    {
     "data": {
      "text/plain": [
       "0.4828052889281137"
      ]
     },
     "execution_count": 43,
     "metadata": {},
     "output_type": "execute_result"
    }
   ],
   "source": [
    "scores.mean()"
   ]
  },
  {
   "cell_type": "code",
   "execution_count": 44,
   "id": "ed7682c7",
   "metadata": {},
   "outputs": [],
   "source": [
    "scores = cross_val_score(clf, X, y, scoring='f1_micro', cv=5)"
   ]
  },
  {
   "cell_type": "code",
   "execution_count": 45,
   "id": "84a28acc",
   "metadata": {},
   "outputs": [
    {
     "data": {
      "text/plain": [
       "0.6234145177960936"
      ]
     },
     "execution_count": 45,
     "metadata": {},
     "output_type": "execute_result"
    }
   ],
   "source": [
    "scores.mean()"
   ]
  },
  {
   "cell_type": "markdown",
   "id": "aad4d08e",
   "metadata": {},
   "source": [
    " "
   ]
  },
  {
   "cell_type": "markdown",
   "id": "5a87b5b4",
   "metadata": {},
   "source": [
    " "
   ]
  },
  {
   "cell_type": "code",
   "execution_count": 59,
   "id": "2b5fd5e2",
   "metadata": {},
   "outputs": [
    {
     "data": {
      "text/plain": [
       "LogisticRegression(multi_class='multinomial')"
      ]
     },
     "execution_count": 59,
     "metadata": {},
     "output_type": "execute_result"
    }
   ],
   "source": [
    "clf.fit(X, y)"
   ]
  },
  {
   "cell_type": "code",
   "execution_count": 65,
   "id": "7ba5a477",
   "metadata": {},
   "outputs": [],
   "source": [
    "coeffs = clf.coef_"
   ]
  },
  {
   "cell_type": "markdown",
   "id": "1dcdcddc",
   "metadata": {},
   "source": [
    " "
   ]
  },
  {
   "cell_type": "markdown",
   "id": "b6201222",
   "metadata": {},
   "source": [
    "By class:"
   ]
  },
  {
   "cell_type": "markdown",
   "id": "9e556abc",
   "metadata": {},
   "source": [
    "      'Background': 997,\n",
    " \n",
    "      'Uses': 364,\n",
    "      \n",
    "      'CompareOrContrast': 351,\n",
    "      \n",
    "      'Motivation': 88,\n",
    "      \n",
    "      'Extends': 72,\n",
    "      \n",
    "      'Future': 69    "
   ]
  },
  {
   "cell_type": "code",
   "execution_count": 71,
   "id": "328ad519",
   "metadata": {},
   "outputs": [
    {
     "data": {
      "text/plain": [
       "['Background', 'Uses', 'CompareOrContrast', 'Motivation', 'Extends', 'Future']"
      ]
     },
     "execution_count": 71,
     "metadata": {},
     "output_type": "execute_result"
    }
   ],
   "source": [
    "CLASSES"
   ]
  },
  {
   "cell_type": "code",
   "execution_count": 89,
   "id": "d94e7e97",
   "metadata": {},
   "outputs": [],
   "source": [
    "def get_cv_score_by_class(class_: str, metric: str = 'f1'):\n",
    "    y_ = y == CLASSES.index(class_)\n",
    "    clf = LogisticRegression(multi_class='multinomial')\n",
    "    scores = cross_val_score(clf, X, y_, scoring=metric, cv=5)\n",
    "    return scores.mean()"
   ]
  },
  {
   "cell_type": "code",
   "execution_count": 90,
   "id": "8399961e",
   "metadata": {},
   "outputs": [
    {
     "name": "stdout",
     "output_type": "stream",
     "text": [
      "Class=Background, F1=0.7261306355435259\n",
      "\n",
      "Class=Uses, F1=0.4565809737046118\n",
      "\n",
      "Class=CompareOrContrast, F1=0.26949236350631156\n",
      "\n",
      "Class=Motivation, F1=0.4437678413540483\n",
      "\n",
      "Class=Extends, F1=0.4432995532309033\n",
      "\n",
      "Class=Future, F1=0.4645680332739156\n",
      "\n"
     ]
    }
   ],
   "source": [
    "for cls in CLASSES:\n",
    "    print(f\"Class={cls}, F1={get_cv_score_by_class(cls)}\\n\")"
   ]
  },
  {
   "cell_type": "code",
   "execution_count": 91,
   "id": "3a1ad8b0",
   "metadata": {},
   "outputs": [
    {
     "name": "stdout",
     "output_type": "stream",
     "text": [
      "Class=Background, Precision=0.6748134880595462\n",
      "\n",
      "Class=Uses, Precision=0.7746706805327495\n",
      "\n",
      "Class=CompareOrContrast, Precision=0.6372750503710256\n",
      "\n",
      "Class=Motivation, Precision=0.8011904761904762\n",
      "\n",
      "Class=Extends, Precision=0.7314285714285714\n",
      "\n",
      "Class=Future, Precision=0.8019480519480521\n",
      "\n"
     ]
    }
   ],
   "source": [
    "for cls in CLASSES:\n",
    "    print(f\"Class={cls}, Precision={get_cv_score_by_class(cls, 'precision')}\\n\")"
   ]
  },
  {
   "cell_type": "code",
   "execution_count": 92,
   "id": "ad6c82fe",
   "metadata": {},
   "outputs": [
    {
     "name": "stdout",
     "output_type": "stream",
     "text": [
      "Class=Background, Recall=0.7863618090452261\n",
      "\n",
      "Class=Uses, Recall=0.3269786910197869\n",
      "\n",
      "Class=CompareOrContrast, Recall=0.17106639839034204\n",
      "\n",
      "Class=Motivation, Recall=0.31830065359477117\n",
      "\n",
      "Class=Extends, Recall=0.31999999999999995\n",
      "\n",
      "Class=Future, Recall=0.34835164835164834\n",
      "\n"
     ]
    }
   ],
   "source": [
    "for cls in CLASSES:\n",
    "    print(f\"Class={cls}, Recall={get_cv_score_by_class(cls, 'recall')}\\n\")"
   ]
  },
  {
   "cell_type": "code",
   "execution_count": null,
   "id": "a15aba39",
   "metadata": {},
   "outputs": [],
   "source": []
  },
  {
   "cell_type": "code",
   "execution_count": null,
   "id": "6e4c0240",
   "metadata": {},
   "outputs": [],
   "source": []
  },
  {
   "cell_type": "code",
   "execution_count": null,
   "id": "2c134a74",
   "metadata": {},
   "outputs": [],
   "source": []
  },
  {
   "cell_type": "code",
   "execution_count": null,
   "id": "42b8971d",
   "metadata": {},
   "outputs": [],
   "source": []
  },
  {
   "cell_type": "code",
   "execution_count": null,
   "id": "dbadb423",
   "metadata": {},
   "outputs": [],
   "source": []
  },
  {
   "cell_type": "code",
   "execution_count": null,
   "id": "dd6ac935",
   "metadata": {},
   "outputs": [],
   "source": []
  },
  {
   "cell_type": "code",
   "execution_count": null,
   "id": "5198d6b5",
   "metadata": {},
   "outputs": [],
   "source": []
  },
  {
   "cell_type": "code",
   "execution_count": null,
   "id": "a1160267",
   "metadata": {},
   "outputs": [],
   "source": []
  },
  {
   "cell_type": "code",
   "execution_count": null,
   "id": "b192de8d",
   "metadata": {},
   "outputs": [],
   "source": []
  },
  {
   "cell_type": "code",
   "execution_count": null,
   "id": "b4551d8e",
   "metadata": {},
   "outputs": [],
   "source": []
  },
  {
   "cell_type": "code",
   "execution_count": null,
   "id": "e7d7f996",
   "metadata": {},
   "outputs": [],
   "source": []
  },
  {
   "cell_type": "code",
   "execution_count": null,
   "id": "f754127a",
   "metadata": {},
   "outputs": [],
   "source": []
  }
 ],
 "metadata": {
  "kernelspec": {
   "display_name": "Python 3 (ipykernel)",
   "language": "python",
   "name": "python3"
  },
  "language_info": {
   "codemirror_mode": {
    "name": "ipython",
    "version": 3
   },
   "file_extension": ".py",
   "mimetype": "text/x-python",
   "name": "python",
   "nbconvert_exporter": "python",
   "pygments_lexer": "ipython3",
   "version": "3.8.10"
  }
 },
 "nbformat": 4,
 "nbformat_minor": 5
}
