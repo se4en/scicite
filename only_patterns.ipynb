{
 "cells": [
  {
   "cell_type": "code",
   "execution_count": 7,
   "id": "b0f5e7e1",
   "metadata": {},
   "outputs": [],
   "source": [
    "import numpy as np\n",
    "import jsonlines\n",
    "\n",
    "from sklearn.linear_model import LogisticRegression, LogisticRegressionCV\n",
    "from sklearn.model_selection import cross_val_score\n",
    "from sklearn.metrics import f1_score\n",
    "from lightgbm import LGBMClassifier\n",
    "from sklearn.model_selection import StratifiedKFold"
   ]
  },
  {
   "cell_type": "code",
   "execution_count": 8,
   "id": "565bcf2b",
   "metadata": {},
   "outputs": [],
   "source": [
    "from typing import Dict\n",
    "\n",
    "from scicite.compute_features import get_formulaic_features, get_agent_features"
   ]
  },
  {
   "cell_type": "code",
   "execution_count": 9,
   "id": "2c5bd9a0",
   "metadata": {},
   "outputs": [],
   "source": [
    "from sklearn.metrics import confusion_matrix\n",
    "import seaborn as sn\n",
    "import pandas as pd\n",
    "import matplotlib.pyplot as plt"
   ]
  },
  {
   "cell_type": "code",
   "execution_count": 10,
   "id": "bbfdb414",
   "metadata": {},
   "outputs": [],
   "source": [
    "FILE_TEST_PRED = \"[TEST]_pred_weights.jsonl\"\n",
    "FILE_TEST_PRED_ONLY_BERT = \"pred_test_with_bert.jsonl\"\n",
    "FILE_TEST_TRUE = \"scicite/data/acl-arc/test.jsonl\"\n",
    "\n",
    "FILE_DEV_PRED = \"[DEV]_pred_weights.jsonl\"\n",
    "FILE_DEV_PRED_ONLY_BERT = \"pred_dev_with_bert.jsonl\"\n",
    "FILE_DEV_TRUE = \"scicite/data/acl-arc/dev.jsonl\"\n",
    "\n",
    "FILE_TRAIN_PRED = \"[TRAIN]_pred_weights.jsonl\"\n",
    "FILE_TRAIN_PRED_ONLY_BERT = \"pred_train_with_bert.jsonl\"\n",
    "FILE_TRAIN_TRUE = \"scicite/data/acl-arc/train.jsonl\"\n",
    "\n",
    "\n",
    "CLASSES = ['Background', 'Uses', 'CompareOrContrast', 'Motivation', 'Extends', 'Future']"
   ]
  },
  {
   "cell_type": "code",
   "execution_count": 11,
   "id": "c497edb3",
   "metadata": {},
   "outputs": [],
   "source": [
    "def compute_all_patterns_features(item):\n",
    "    formulaic_features, fn_1, __ = get_formulaic_features(item['sents_before'][0], prefix='InCitSent:')\n",
    "    agent_features, fn_2, _ = get_agent_features(item['sents_before'][0], prefix='InCitSent:')\n",
    "    fn_3, fn_4 = [], []\n",
    "    \n",
    "    formulaic_clause_features = formulaic_features\n",
    "    agent_clause_features = agent_features\n",
    "    if len(item['sents_before']) > 1:\n",
    "        for cur_sentence in item['sents_before'][1:]:\n",
    "            _formulaic_features, fn_3, _ = get_formulaic_features(cur_sentence, prefix='InClause:')\n",
    "            _agent_features, fn_4, _ = get_agent_features(cur_sentence, prefix='InClause:')\n",
    "            formulaic_clause_features = [f_1 or f_2 for f_1, f_2 in zip(formulaic_clause_features,\n",
    "                                                                        _formulaic_features)]\n",
    "            agent_clause_features = [f_1 or f_2 for f_1, f_2 in zip(agent_clause_features,\n",
    "                                                                    _agent_features)]\n",
    "    for cur_sentence in item['sents_after']:\n",
    "        _formulaic_features, _, _ = get_formulaic_features(cur_sentence, prefix='InClause:')\n",
    "        _agent_features, _, _ = get_agent_features(cur_sentence, prefix='InClause:')\n",
    "        formulaic_clause_features = [f_1 or f_2 for f_1, f_2 in zip(formulaic_clause_features,\n",
    "                                                                    _formulaic_features)]\n",
    "        agent_clause_features = [f_1 or f_2 for f_1, f_2 in zip(agent_clause_features,\n",
    "                                                                _agent_features)]\n",
    "        \n",
    "\n",
    "    x = formulaic_features + agent_features + formulaic_clause_features + agent_clause_features \n",
    "    y = CLASSES.index(item['intent'])\n",
    "    feature_names = fn_1 + fn_2\n",
    "    if fn_3:\n",
    "        feature_names += fn_3 + fn_4 \n",
    "    return x, y, feature_names"
   ]
  },
  {
   "cell_type": "code",
   "execution_count": 12,
   "id": "c94d4296",
   "metadata": {},
   "outputs": [],
   "source": [
    "def create_data():\n",
    "    X = []\n",
    "    y = []\n",
    "\n",
    "    with jsonlines.open(FILE_TEST_TRUE, 'r') as reader:\n",
    "        for item in reader:\n",
    "            _x, _y, _ = compute_all_patterns_features(item)\n",
    "            X.append(_x)\n",
    "            y.append(_y)\n",
    "    \n",
    "    with jsonlines.open(FILE_DEV_TRUE, 'r') as reader:\n",
    "        for item in reader:\n",
    "            _x, _y, _ = compute_all_patterns_features(item)\n",
    "            X.append(_x)\n",
    "            y.append(_y)\n",
    "    \n",
    "    with jsonlines.open(FILE_TRAIN_TRUE, 'r') as reader:\n",
    "        for item in reader:\n",
    "            _x, _y, _ = compute_all_patterns_features(item)\n",
    "            X.append(_x)\n",
    "            y.append(_y)\n",
    "    \n",
    "    return np.array(X), np.array(y)"
   ]
  },
  {
   "cell_type": "code",
   "execution_count": 13,
   "id": "f13acfb2",
   "metadata": {},
   "outputs": [
    {
     "ename": "KeyboardInterrupt",
     "evalue": "",
     "output_type": "error",
     "traceback": [
      "\u001b[0;31m---------------------------------------------------------------------------\u001b[0m",
      "\u001b[0;31mKeyboardInterrupt\u001b[0m                         Traceback (most recent call last)",
      "\u001b[0;32m/tmp/ipykernel_12134/3221846231.py\u001b[0m in \u001b[0;36m<module>\u001b[0;34m\u001b[0m\n\u001b[0;32m----> 1\u001b[0;31m \u001b[0mX\u001b[0m\u001b[0;34m,\u001b[0m \u001b[0my\u001b[0m \u001b[0;34m=\u001b[0m \u001b[0mcreate_data\u001b[0m\u001b[0;34m(\u001b[0m\u001b[0;34m)\u001b[0m\u001b[0;34m\u001b[0m\u001b[0;34m\u001b[0m\u001b[0m\n\u001b[0m",
      "\u001b[0;32m/tmp/ipykernel_12134/559045516.py\u001b[0m in \u001b[0;36mcreate_data\u001b[0;34m()\u001b[0m\n\u001b[1;32m      5\u001b[0m     \u001b[0;32mwith\u001b[0m \u001b[0mjsonlines\u001b[0m\u001b[0;34m.\u001b[0m\u001b[0mopen\u001b[0m\u001b[0;34m(\u001b[0m\u001b[0mFILE_TEST_TRUE\u001b[0m\u001b[0;34m,\u001b[0m \u001b[0;34m'r'\u001b[0m\u001b[0;34m)\u001b[0m \u001b[0;32mas\u001b[0m \u001b[0mreader\u001b[0m\u001b[0;34m:\u001b[0m\u001b[0;34m\u001b[0m\u001b[0;34m\u001b[0m\u001b[0m\n\u001b[1;32m      6\u001b[0m         \u001b[0;32mfor\u001b[0m \u001b[0mitem\u001b[0m \u001b[0;32min\u001b[0m \u001b[0mreader\u001b[0m\u001b[0;34m:\u001b[0m\u001b[0;34m\u001b[0m\u001b[0;34m\u001b[0m\u001b[0m\n\u001b[0;32m----> 7\u001b[0;31m             \u001b[0m_x\u001b[0m\u001b[0;34m,\u001b[0m \u001b[0m_y\u001b[0m\u001b[0;34m,\u001b[0m \u001b[0m_\u001b[0m \u001b[0;34m=\u001b[0m \u001b[0mcompute_all_patterns_features\u001b[0m\u001b[0;34m(\u001b[0m\u001b[0mitem\u001b[0m\u001b[0;34m)\u001b[0m\u001b[0;34m\u001b[0m\u001b[0;34m\u001b[0m\u001b[0m\n\u001b[0m\u001b[1;32m      8\u001b[0m             \u001b[0mX\u001b[0m\u001b[0;34m.\u001b[0m\u001b[0mappend\u001b[0m\u001b[0;34m(\u001b[0m\u001b[0m_x\u001b[0m\u001b[0;34m)\u001b[0m\u001b[0;34m\u001b[0m\u001b[0;34m\u001b[0m\u001b[0m\n\u001b[1;32m      9\u001b[0m             \u001b[0my\u001b[0m\u001b[0;34m.\u001b[0m\u001b[0mappend\u001b[0m\u001b[0;34m(\u001b[0m\u001b[0m_y\u001b[0m\u001b[0;34m)\u001b[0m\u001b[0;34m\u001b[0m\u001b[0;34m\u001b[0m\u001b[0m\n",
      "\u001b[0;32m/tmp/ipykernel_12134/3795555106.py\u001b[0m in \u001b[0;36mcompute_all_patterns_features\u001b[0;34m(item)\u001b[0m\n\u001b[1;32m     15\u001b[0m                                                                     _agent_features)]\n\u001b[1;32m     16\u001b[0m     \u001b[0;32mfor\u001b[0m \u001b[0mcur_sentence\u001b[0m \u001b[0;32min\u001b[0m \u001b[0mitem\u001b[0m\u001b[0;34m[\u001b[0m\u001b[0;34m'sents_after'\u001b[0m\u001b[0;34m]\u001b[0m\u001b[0;34m:\u001b[0m\u001b[0;34m\u001b[0m\u001b[0;34m\u001b[0m\u001b[0m\n\u001b[0;32m---> 17\u001b[0;31m         \u001b[0m_formulaic_features\u001b[0m\u001b[0;34m,\u001b[0m \u001b[0m_\u001b[0m\u001b[0;34m,\u001b[0m \u001b[0m_\u001b[0m \u001b[0;34m=\u001b[0m \u001b[0mget_formulaic_features\u001b[0m\u001b[0;34m(\u001b[0m\u001b[0mcur_sentence\u001b[0m\u001b[0;34m,\u001b[0m \u001b[0mprefix\u001b[0m\u001b[0;34m=\u001b[0m\u001b[0;34m'InClause:'\u001b[0m\u001b[0;34m)\u001b[0m\u001b[0;34m\u001b[0m\u001b[0;34m\u001b[0m\u001b[0m\n\u001b[0m\u001b[1;32m     18\u001b[0m         \u001b[0m_agent_features\u001b[0m\u001b[0;34m,\u001b[0m \u001b[0m_\u001b[0m\u001b[0;34m,\u001b[0m \u001b[0m_\u001b[0m \u001b[0;34m=\u001b[0m \u001b[0mget_agent_features\u001b[0m\u001b[0;34m(\u001b[0m\u001b[0mcur_sentence\u001b[0m\u001b[0;34m,\u001b[0m \u001b[0mprefix\u001b[0m\u001b[0;34m=\u001b[0m\u001b[0;34m'InClause:'\u001b[0m\u001b[0;34m)\u001b[0m\u001b[0;34m\u001b[0m\u001b[0;34m\u001b[0m\u001b[0m\n\u001b[1;32m     19\u001b[0m         formulaic_clause_features = [f_1 or f_2 for f_1, f_2 in zip(formulaic_clause_features,\n",
      "\u001b[0;32m~/cit_function/scicite/scicite/compute_features.py\u001b[0m in \u001b[0;36mget_formulaic_features\u001b[0;34m(processed_sentence, count, prefix)\u001b[0m\n\u001b[1;32m    125\u001b[0m         \u001b[0;32mfor\u001b[0m \u001b[0mpattern\u001b[0m \u001b[0;32min\u001b[0m \u001b[0mpatterns\u001b[0m\u001b[0;34m:\u001b[0m\u001b[0;34m\u001b[0m\u001b[0;34m\u001b[0m\u001b[0m\n\u001b[1;32m    126\u001b[0m             \u001b[0mprep_pat\u001b[0m \u001b[0;34m=\u001b[0m \u001b[0mpattern\u001b[0m\u001b[0;34m.\u001b[0m\u001b[0msplit\u001b[0m\u001b[0;34m(\u001b[0m\u001b[0;34m' '\u001b[0m\u001b[0;34m)\u001b[0m\u001b[0;34m\u001b[0m\u001b[0;34m\u001b[0m\u001b[0m\n\u001b[0;32m--> 127\u001b[0;31m             \u001b[0mpat_index\u001b[0m \u001b[0;34m=\u001b[0m \u001b[0mfind\u001b[0m\u001b[0;34m(\u001b[0m\u001b[0mprep_pat\u001b[0m\u001b[0;34m,\u001b[0m \u001b[0mprocessed_sentence\u001b[0m\u001b[0;34m,\u001b[0m \u001b[0;32mFalse\u001b[0m\u001b[0;34m,\u001b[0m \u001b[0mfeature\u001b[0m\u001b[0;34m=\u001b[0m\u001b[0mfeature_name\u001b[0m\u001b[0;34m)\u001b[0m\u001b[0;34m\u001b[0m\u001b[0;34m\u001b[0m\u001b[0m\n\u001b[0m\u001b[1;32m    128\u001b[0m             \u001b[0;32mif\u001b[0m \u001b[0mpat_index\u001b[0m \u001b[0;34m>=\u001b[0m \u001b[0;36m0\u001b[0m\u001b[0;34m:\u001b[0m\u001b[0;34m\u001b[0m\u001b[0;34m\u001b[0m\u001b[0m\n\u001b[1;32m    129\u001b[0m                 \u001b[0mcnt\u001b[0m \u001b[0;34m+=\u001b[0m \u001b[0;36m1\u001b[0m\u001b[0;34m\u001b[0m\u001b[0;34m\u001b[0m\u001b[0m\n",
      "\u001b[0;32m~/cit_function/scicite/scicite/helper.py\u001b[0m in \u001b[0;36mfind\u001b[0;34m(pattern, sentence, must_have_subj_value, feature)\u001b[0m\n\u001b[1;32m    281\u001b[0m                     \u001b[0;32mreturn\u001b[0m \u001b[0;34m-\u001b[0m\u001b[0;36m1\u001b[0m\u001b[0;34m\u001b[0m\u001b[0;34m\u001b[0m\u001b[0m\n\u001b[1;32m    282\u001b[0m \u001b[0;34m\u001b[0m\u001b[0m\n\u001b[0;32m--> 283\u001b[0;31m                 (is_match, matched_phrased_length) = _is_in_lexicon(lexicon, sentence, \\\n\u001b[0m\u001b[1;32m    284\u001b[0m                                                                     sent_pos+pat_pos+k, required_pos=required_pos)\n\u001b[1;32m    285\u001b[0m \u001b[0;34m\u001b[0m\u001b[0m\n",
      "\u001b[0;32m~/cit_function/scicite/scicite/helper.py\u001b[0m in \u001b[0;36m_is_in_lexicon\u001b[0;34m(lexicon, sentence, si, ArgType, required_pos)\u001b[0m\n\u001b[1;32m    208\u001b[0m             \u001b[0;31m# Check the word form too, just to prevent weird lemmatization\u001b[0m\u001b[0;34m\u001b[0m\u001b[0;34m\u001b[0m\u001b[0;34m\u001b[0m\u001b[0m\n\u001b[1;32m    209\u001b[0m             \u001b[0;31m# issues (usually for adjectives)\u001b[0m\u001b[0;34m\u001b[0m\u001b[0;34m\u001b[0m\u001b[0;34m\u001b[0m\u001b[0m\n\u001b[0;32m--> 210\u001b[0;31m             \u001b[0;32mif\u001b[0m \u001b[0;32mnot\u001b[0m \u001b[0;34m(\u001b[0m\u001b[0msentence\u001b[0m\u001b[0;34m[\u001b[0m\u001b[0msi\u001b[0m\u001b[0;34m+\u001b[0m\u001b[0mi\u001b[0m\u001b[0;34m]\u001b[0m\u001b[0;34m[\u001b[0m\u001b[0;34m'lemma'\u001b[0m\u001b[0;34m]\u001b[0m \u001b[0;34m==\u001b[0m \u001b[0mlemma\u001b[0m \u001b[0;32mor\u001b[0m \u001b[0msentence\u001b[0m\u001b[0;34m[\u001b[0m\u001b[0msi\u001b[0m\u001b[0;34m+\u001b[0m\u001b[0mi\u001b[0m\u001b[0;34m]\u001b[0m\u001b[0;34m[\u001b[0m\u001b[0;34m'word'\u001b[0m\u001b[0;34m]\u001b[0m \u001b[0;34m==\u001b[0m \u001b[0mlemma\u001b[0m\u001b[0;34m)\u001b[0m\u001b[0;31m \u001b[0m\u001b[0;31m\\\u001b[0m\u001b[0;34m\u001b[0m\u001b[0;34m\u001b[0m\u001b[0m\n\u001b[0m\u001b[1;32m    211\u001b[0m                     \u001b[0;32mor\u001b[0m \u001b[0;32mnot\u001b[0m \u001b[0;34m(\u001b[0m\u001b[0mrequired_pos\u001b[0m \u001b[0;32mis\u001b[0m \u001b[0;32mNone\u001b[0m \u001b[0;32mor\u001b[0m \u001b[0msentence\u001b[0m\u001b[0;34m[\u001b[0m\u001b[0msi\u001b[0m\u001b[0;34m+\u001b[0m\u001b[0mi\u001b[0m\u001b[0;34m]\u001b[0m\u001b[0;34m[\u001b[0m\u001b[0;34m'pos'\u001b[0m\u001b[0;34m]\u001b[0m\u001b[0;34m[\u001b[0m\u001b[0;36m0\u001b[0m\u001b[0;34m]\u001b[0m \u001b[0;34m==\u001b[0m \u001b[0mrequired_pos\u001b[0m\u001b[0;34m)\u001b[0m\u001b[0;34m:\u001b[0m\u001b[0;34m\u001b[0m\u001b[0;34m\u001b[0m\u001b[0m\n\u001b[1;32m    212\u001b[0m                 \u001b[0mfound\u001b[0m \u001b[0;34m=\u001b[0m \u001b[0;32mFalse\u001b[0m\u001b[0;34m\u001b[0m\u001b[0;34m\u001b[0m\u001b[0m\n",
      "\u001b[0;31mKeyboardInterrupt\u001b[0m: "
     ]
    }
   ],
   "source": [
    "X, y = create_data()"
   ]
  },
  {
   "cell_type": "code",
   "execution_count": null,
   "id": "3d2b39ae",
   "metadata": {},
   "outputs": [],
   "source": [
    "X.shape"
   ]
  },
  {
   "cell_type": "code",
   "execution_count": null,
   "id": "ef8053a3",
   "metadata": {},
   "outputs": [],
   "source": [
    "y.shape"
   ]
  },
  {
   "cell_type": "code",
   "execution_count": null,
   "id": "3ad14cad",
   "metadata": {},
   "outputs": [],
   "source": [
    "with jsonlines.open(FILE_TRAIN_TRUE, 'r') as reader:\n",
    "    for item in reader:\n",
    "        _, _, feature_names = compute_all_patterns_features(item)\n",
    "        break"
   ]
  },
  {
   "cell_type": "code",
   "execution_count": null,
   "id": "7b240d65",
   "metadata": {},
   "outputs": [],
   "source": [
    "#feature_names"
   ]
  },
  {
   "cell_type": "markdown",
   "id": "e93c526f",
   "metadata": {},
   "source": [
    " "
   ]
  },
  {
   "cell_type": "markdown",
   "id": "64c36654",
   "metadata": {},
   "source": [
    " "
   ]
  },
  {
   "cell_type": "code",
   "execution_count": null,
   "id": "dfeaf481",
   "metadata": {},
   "outputs": [],
   "source": [
    "from sklearn.linear_model import LogisticRegression, LogisticRegressionCV\n",
    "from sklearn.model_selection import cross_val_score"
   ]
  },
  {
   "cell_type": "code",
   "execution_count": null,
   "id": "0b3d16f3",
   "metadata": {},
   "outputs": [],
   "source": [
    "clf = LogisticRegression(multi_class='multinomial')\n",
    "scores = cross_val_score(clf, X, y, scoring='f1_macro', cv=5)"
   ]
  },
  {
   "cell_type": "code",
   "execution_count": null,
   "id": "ad643a69",
   "metadata": {},
   "outputs": [],
   "source": [
    "scores.mean()"
   ]
  },
  {
   "cell_type": "code",
   "execution_count": null,
   "id": "1edb2839",
   "metadata": {},
   "outputs": [],
   "source": [
    "scores = cross_val_score(clf, X, y, scoring='f1_micro', cv=5)"
   ]
  },
  {
   "cell_type": "code",
   "execution_count": null,
   "id": "59e5127e",
   "metadata": {},
   "outputs": [],
   "source": [
    "scores.mean()"
   ]
  },
  {
   "cell_type": "markdown",
   "id": "53b487e7",
   "metadata": {},
   "source": [
    " "
   ]
  },
  {
   "cell_type": "markdown",
   "id": "2cc0f09e",
   "metadata": {},
   "source": [
    " "
   ]
  },
  {
   "cell_type": "code",
   "execution_count": null,
   "id": "41016cf4",
   "metadata": {},
   "outputs": [],
   "source": [
    "clf.fit(X, y)"
   ]
  },
  {
   "cell_type": "code",
   "execution_count": null,
   "id": "94ace0e4",
   "metadata": {},
   "outputs": [],
   "source": [
    "coeffs = clf.coef_"
   ]
  },
  {
   "cell_type": "markdown",
   "id": "ded26935",
   "metadata": {},
   "source": [
    " "
   ]
  },
  {
   "cell_type": "markdown",
   "id": "0a59f4e0",
   "metadata": {},
   "source": [
    "By class:"
   ]
  },
  {
   "cell_type": "markdown",
   "id": "f38b6233",
   "metadata": {},
   "source": [
    "      'Background': 997,\n",
    " \n",
    "      'Uses': 364,\n",
    "      \n",
    "      'CompareOrContrast': 351,\n",
    "      \n",
    "      'Motivation': 88,\n",
    "      \n",
    "      'Extends': 72,\n",
    "      \n",
    "      'Future': 69    "
   ]
  },
  {
   "cell_type": "code",
   "execution_count": null,
   "id": "6f5c3473",
   "metadata": {},
   "outputs": [],
   "source": [
    "CLASSES"
   ]
  },
  {
   "cell_type": "code",
   "execution_count": null,
   "id": "82c3f73b",
   "metadata": {},
   "outputs": [],
   "source": [
    "def get_cv_score_by_class(class_: str, metric: str = 'f1'):\n",
    "    y_ = y == CLASSES.index(class_)\n",
    "    clf = LogisticRegression(multi_class='multinomial')\n",
    "    scores = cross_val_score(clf, X, y_, scoring=metric, cv=5)\n",
    "    return scores.mean()"
   ]
  },
  {
   "cell_type": "code",
   "execution_count": null,
   "id": "61d62681",
   "metadata": {},
   "outputs": [],
   "source": [
    "for cls in CLASSES:\n",
    "    print(f\"Class={cls}, F1={get_cv_score_by_class(cls)}\\n\")"
   ]
  },
  {
   "cell_type": "code",
   "execution_count": null,
   "id": "e4c4bc71",
   "metadata": {},
   "outputs": [],
   "source": [
    "for cls in CLASSES:\n",
    "    print(f\"Class={cls}, Precision={get_cv_score_by_class(cls, 'precision')}\\n\")"
   ]
  },
  {
   "cell_type": "code",
   "execution_count": null,
   "id": "9a4c4a2a",
   "metadata": {},
   "outputs": [],
   "source": [
    "for cls in CLASSES:\n",
    "    print(f\"Class={cls}, Recall={get_cv_score_by_class(cls, 'recall')}\\n\")"
   ]
  },
  {
   "cell_type": "markdown",
   "id": "b5e3ad75",
   "metadata": {},
   "source": [
    " "
   ]
  },
  {
   "cell_type": "markdown",
   "id": "5354a0c7",
   "metadata": {},
   "source": [
    "Error matrix:"
   ]
  },
  {
   "cell_type": "markdown",
   "id": "a2eb8a82",
   "metadata": {},
   "source": [
    " "
   ]
  },
  {
   "cell_type": "code",
   "execution_count": null,
   "id": "bcd716bf",
   "metadata": {},
   "outputs": [],
   "source": [
    "FILE_TEST_PRED = \"[TEST]_pred_weights.jsonl\"\n",
    "FILE_TEST_PRED_ONLY_BERT = \"pred_test_with_bert.jsonl\"\n",
    "FILE_TEST_TRUE = \"scicite/data/acl-arc/test.jsonl\"\n",
    "\n",
    "FILE_DEV_PRED = \"[DEV]_pred_weights.jsonl\"\n",
    "FILE_DEV_PRED_ONLY_BERT = \"pred_dev_with_bert.jsonl\"\n",
    "FILE_DEV_TRUE = \"scicite/data/acl-arc/dev.jsonl\"\n",
    "\n",
    "FILE_TRAIN_PRED = \"[TRAIN]_pred_weights.jsonl\"\n",
    "FILE_TRAIN_PRED_ONLY_BERT = \"pred_train_with_bert.jsonl\"\n",
    "FILE_TRAIN_TRUE = \"scicite/data/acl-arc/train.jsonl\""
   ]
  },
  {
   "cell_type": "code",
   "execution_count": null,
   "id": "f07e439d",
   "metadata": {},
   "outputs": [],
   "source": [
    "def get_true_pred(true_file, pred_file):\n",
    "    # true values\n",
    "    true = dict()\n",
    "    with jsonlines.open(true_file) as reader:\n",
    "        for obj in reader:\n",
    "            true[obj['citation_id']] = obj['intent']\n",
    "    \n",
    "    # true+pred values\n",
    "    pairs = dict()\n",
    "    with jsonlines.open(pred_file) as reader:\n",
    "        for obj in reader:\n",
    "            pairs[obj['citation_id']] = [true[obj['citation_id']], obj['prediction']]\n",
    "    \n",
    "    # encode\n",
    "    y_true_pred = list(pairs.values())\n",
    "    y = []\n",
    "    for pair in y_true_pred:\n",
    "        y.append([CLASSES.index(pair[0]), CLASSES.index(pair[1])])\n",
    "    y = np.array(y)\n",
    "    y_true = y[:, 0]\n",
    "    y_pred = y[:, 1]\n",
    "    \n",
    "    return y_true, y_pred"
   ]
  },
  {
   "cell_type": "code",
   "execution_count": null,
   "id": "e78d201c",
   "metadata": {},
   "outputs": [],
   "source": [
    "y_true_test, y_pred_test = get_true_pred(FILE_TEST_TRUE, FILE_TEST_PRED)"
   ]
  },
  {
   "cell_type": "code",
   "execution_count": null,
   "id": "7774d0a9",
   "metadata": {},
   "outputs": [],
   "source": [
    "y_true_dev, y_pred_dev = get_true_pred(FILE_DEV_TRUE, FILE_DEV_PRED)"
   ]
  },
  {
   "cell_type": "code",
   "execution_count": null,
   "id": "c5eb1f13",
   "metadata": {},
   "outputs": [],
   "source": [
    "y_true_train, y_pred_train = get_true_pred(FILE_TRAIN_TRUE, FILE_TRAIN_PRED)"
   ]
  },
  {
   "cell_type": "code",
   "execution_count": null,
   "id": "1214617e",
   "metadata": {},
   "outputs": [],
   "source": [
    "y_true_all = np.concatenate((y_true_test, y_true_dev, y_true_train))\n",
    "y_pred_all = np.concatenate((y_pred_test, y_pred_dev, y_pred_train))"
   ]
  },
  {
   "cell_type": "code",
   "execution_count": null,
   "id": "bdbdcdab",
   "metadata": {},
   "outputs": [],
   "source": [
    "error_matrix_all = confusion_matrix(y_true_all, y_pred_all)"
   ]
  },
  {
   "cell_type": "code",
   "execution_count": null,
   "id": "a6968354",
   "metadata": {},
   "outputs": [],
   "source": [
    "error_matrix = confusion_matrix(y_true_test, y_pred_test)"
   ]
  },
  {
   "cell_type": "markdown",
   "id": "b964fe0d",
   "metadata": {},
   "source": [
    "***Only validation:***"
   ]
  },
  {
   "cell_type": "code",
   "execution_count": null,
   "id": "84f573ff",
   "metadata": {},
   "outputs": [],
   "source": [
    "df_cm = pd.DataFrame(error_matrix, index = CLASSES, columns = CLASSES)\n",
    "plt.figure(figsize = (10,7))\n",
    "cmap = sn.cm.rocket_r\n",
    "sn.heatmap(df_cm, annot=True, cmap=cmap)\n",
    "\n",
    "plt.ylabel(\"Predicted labels\")\n",
    "plt.xlabel(\"True labels\")\n",
    "plt.show()"
   ]
  },
  {
   "cell_type": "markdown",
   "id": "e09b2adb",
   "metadata": {},
   "source": [
    "***All data:***"
   ]
  },
  {
   "cell_type": "code",
   "execution_count": null,
   "id": "feca1f18",
   "metadata": {},
   "outputs": [],
   "source": [
    "df_cm = pd.DataFrame(error_matrix_all, index = CLASSES, columns = CLASSES)\n",
    "plt.figure(figsize = (10,7))\n",
    "cmap = sn.cm.rocket_r\n",
    "sn.heatmap(df_cm, annot=True, cmap=cmap)\n",
    "\n",
    "plt.title(\"Scibert with class weights\")\n",
    "plt.ylabel(\"Predicted labels\")\n",
    "plt.xlabel(\"True labels\")\n",
    "plt.show()"
   ]
  },
  {
   "cell_type": "markdown",
   "id": "f70a629c",
   "metadata": {},
   "source": [
    " "
   ]
  },
  {
   "cell_type": "markdown",
   "id": "21b8bb7a",
   "metadata": {},
   "source": [
    "only sciBERT"
   ]
  },
  {
   "cell_type": "markdown",
   "id": "3b41cc8d",
   "metadata": {},
   "source": [
    " "
   ]
  },
  {
   "cell_type": "code",
   "execution_count": null,
   "id": "5a5ffeaa",
   "metadata": {},
   "outputs": [],
   "source": [
    "y_true_test_only, y_pred_test_only = get_true_pred(FILE_TEST_TRUE, FILE_TEST_PRED_ONLY_BERT)"
   ]
  },
  {
   "cell_type": "code",
   "execution_count": null,
   "id": "51f89905",
   "metadata": {},
   "outputs": [],
   "source": [
    "y_true_dev_only, y_pred_dev_only = get_true_pred(FILE_DEV_TRUE, FILE_DEV_PRED_ONLY_BERT)"
   ]
  },
  {
   "cell_type": "code",
   "execution_count": null,
   "id": "6a3e8144",
   "metadata": {},
   "outputs": [],
   "source": [
    "y_true_train_only, y_pred_train_only = get_true_pred(FILE_TRAIN_TRUE, FILE_TRAIN_PRED_ONLY_BERT)"
   ]
  },
  {
   "cell_type": "code",
   "execution_count": null,
   "id": "31f2d63d",
   "metadata": {},
   "outputs": [],
   "source": [
    "y_true_all_only = np.concatenate((y_true_test_only, y_true_dev_only, y_true_train_only))\n",
    "y_pred_all_only = np.concatenate((y_pred_test_only, y_pred_dev_only, y_pred_train_only))"
   ]
  },
  {
   "cell_type": "code",
   "execution_count": null,
   "id": "f8373fa7",
   "metadata": {},
   "outputs": [],
   "source": [
    "error_matrix_test_all_only = confusion_matrix(y_true_test_only, y_true_test_only)"
   ]
  },
  {
   "cell_type": "code",
   "execution_count": null,
   "id": "83f40cae",
   "metadata": {},
   "outputs": [],
   "source": [
    "error_matrix_all_only = confusion_matrix(y_true_all_only, y_pred_all_only)"
   ]
  },
  {
   "cell_type": "markdown",
   "id": "dd28f492",
   "metadata": {},
   "source": [
    "***All data***:"
   ]
  },
  {
   "cell_type": "code",
   "execution_count": null,
   "id": "70c44263",
   "metadata": {},
   "outputs": [],
   "source": [
    "df_cm = pd.DataFrame(error_matrix_all_only, index = CLASSES, columns = CLASSES)\n",
    "plt.figure(figsize = (10,7))\n",
    "cmap = sn.cm.rocket_r\n",
    "sn.heatmap(df_cm, annot=True, cmap=cmap)\n",
    "\n",
    "plt.title(\"Only scibert\")\n",
    "plt.ylabel(\"Predicted labels\")\n",
    "plt.xlabel(\"True labels\")\n",
    "plt.show()"
   ]
  },
  {
   "cell_type": "markdown",
   "id": "93974731",
   "metadata": {},
   "source": [
    " "
   ]
  },
  {
   "cell_type": "markdown",
   "id": "09de9ba6",
   "metadata": {},
   "source": [
    " "
   ]
  },
  {
   "cell_type": "markdown",
   "id": "4379d4f8",
   "metadata": {},
   "source": [
    "***Linear combination***"
   ]
  },
  {
   "cell_type": "markdown",
   "id": "78e74824",
   "metadata": {},
   "source": [
    " "
   ]
  },
  {
   "cell_type": "markdown",
   "id": "c5174873",
   "metadata": {},
   "source": [
    " "
   ]
  },
  {
   "cell_type": "code",
   "execution_count": 15,
   "id": "a1f06cc0",
   "metadata": {},
   "outputs": [],
   "source": [
    "def create_train_data():\n",
    "    X_train = []\n",
    "    y_train = []\n",
    "    \n",
    "    with jsonlines.open(FILE_TRAIN_TRUE, 'r') as reader:\n",
    "        for item in reader:\n",
    "            _x, _y, _ = compute_all_patterns_features(item)\n",
    "            X_train.append(_x)\n",
    "            y_train.append(_y)\n",
    "    \n",
    "    return np.array(X_train), np.array(y_train)"
   ]
  },
  {
   "cell_type": "code",
   "execution_count": 16,
   "id": "bee0549d",
   "metadata": {},
   "outputs": [],
   "source": [
    "X_train, y_train = create_train_data()"
   ]
  },
  {
   "cell_type": "code",
   "execution_count": 17,
   "id": "4c5066df",
   "metadata": {},
   "outputs": [],
   "source": [
    "def create_test_data(clf):\n",
    "    # true values\n",
    "    true = dict()\n",
    "    with jsonlines.open(FILE_TEST_TRUE) as reader:\n",
    "        for obj in reader:\n",
    "            cur_obj = obj\n",
    "            _x, _y, _ = compute_all_patterns_features(obj)\n",
    "            cur_obj['patterns'] = _x\n",
    "            true[obj['citation_id']] = cur_obj\n",
    "    with jsonlines.open(FILE_DEV_TRUE) as reader:\n",
    "        for obj in reader:\n",
    "            cur_obj = obj\n",
    "            _x, _y, _ = compute_all_patterns_features(obj)\n",
    "            cur_obj['patterns'] = _x\n",
    "            true[obj['citation_id']] = cur_obj\n",
    "           \n",
    "    # pred values\n",
    "    result = {}\n",
    "    with jsonlines.open(FILE_TEST_PRED, 'r') as reader:\n",
    "        for item in reader:\n",
    "            cur_item = {}\n",
    "            cur_item['patterns'] = true[item['citation_id']]['patterns']\n",
    "            cur_item['citation_id'] = item['citation_id']\n",
    "            cur_item['intent'] = true[item['citation_id']]['intent']\n",
    "            cur_item['prediction'] = CLASSES.index(item['prediction'])\n",
    "            cur_item['probabilities'] = item['probabilities']\n",
    "            cur_item['clf_prediction'] = clf.predict([_x])[0]\n",
    "            cur_item['clf_probabilities'] = clf.predict_proba([_x])\n",
    "            result[item['citation_id']] = cur_item\n",
    "    \n",
    "    with jsonlines.open(FILE_DEV_PRED, 'r') as reader:\n",
    "        for item in reader:\n",
    "            cur_item = {}\n",
    "            cur_item['patterns'] = true[item['citation_id']]['patterns']\n",
    "            cur_item['citation_id'] = item['citation_id']\n",
    "            cur_item['intent'] = true[item['citation_id']]['intent']\n",
    "            cur_item['prediction'] = CLASSES.index(item['prediction'])\n",
    "            cur_item['probabilities'] = item['probabilities']\n",
    "            cur_item['clf_prediction'] = clf.predict([_x])[0]\n",
    "            cur_item['clf_probabilities'] = clf.predict_proba([_x])\n",
    "            result[item['citation_id']] = cur_item\n",
    "    \n",
    "    return result"
   ]
  },
  {
   "cell_type": "code",
   "execution_count": 18,
   "id": "8d4ea99b",
   "metadata": {},
   "outputs": [],
   "source": [
    "def create_test_data_info():\n",
    "    X_info = []\n",
    "    y_info = []\n",
    "    \n",
    "    with jsonlines.open(FILE_TEST_TRUE) as reader:\n",
    "        for obj in reader:\n",
    "            X_info.append(obj['citation_id'])\n",
    "            y_info.append(CLASSES.index(obj['intent']))\n",
    "    with jsonlines.open(FILE_DEV_TRUE) as reader:\n",
    "        for obj in reader:\n",
    "            X_info.append(obj['citation_id'])\n",
    "            y_info.append(CLASSES.index(obj['intent']))\n",
    "            \n",
    "    return X_info, y_info"
   ]
  },
  {
   "cell_type": "code",
   "execution_count": 19,
   "id": "e2002f89",
   "metadata": {},
   "outputs": [
    {
     "data": {
      "text/plain": [
       "0.5392998088369465"
      ]
     },
     "execution_count": 19,
     "metadata": {},
     "output_type": "execute_result"
    }
   ],
   "source": [
    "clf = LGBMClassifier()\n",
    "scores = cross_val_score(clf, X_train, y_train, scoring='f1_macro', cv=5)\n",
    "scores.mean()"
   ]
  },
  {
   "cell_type": "code",
   "execution_count": 20,
   "id": "3b4f5105",
   "metadata": {},
   "outputs": [],
   "source": [
    "clf = LGBMClassifier().fit(X_train, y_train)"
   ]
  },
  {
   "cell_type": "code",
   "execution_count": 21,
   "id": "a34063ec",
   "metadata": {},
   "outputs": [],
   "source": [
    "test_data = create_test_data(clf)"
   ]
  },
  {
   "cell_type": "code",
   "execution_count": 23,
   "id": "fd63eb8c",
   "metadata": {},
   "outputs": [],
   "source": [
    "X_test_info, y_test_info = create_test_data_info()"
   ]
  },
  {
   "cell_type": "code",
   "execution_count": 50,
   "id": "845c6a2f",
   "metadata": {},
   "outputs": [],
   "source": [
    "all_weights = []\n",
    "for w_1 in np.linspace(0, 1, 5):\n",
    "    for w_2 in np.linspace(0, 1, 5):\n",
    "        for w_3 in np.linspace(0, 1, 5):\n",
    "            for w_4 in np.linspace(0, 1, 5):\n",
    "                for w_5 in np.linspace(0, 1, 5):\n",
    "                    for w_6 in np.linspace(0, 1, 5):\n",
    "                        all_weights.append([w_1, w_2, w_3, w_4, w_5, w_6])"
   ]
  },
  {
   "cell_type": "code",
   "execution_count": 52,
   "id": "61650779",
   "metadata": {},
   "outputs": [],
   "source": [
    "def compute_score(X_probs, y, weights):\n",
    "    y_pred = []\n",
    "    for _pair in X_probs:\n",
    "        clf_1_probs, clf_2_probs = _pair\n",
    "        clf_1_probs = np.array(clf_1_probs)\n",
    "        clf_2_probs = np.array(clf_2_probs)\n",
    "        weights = np.array(weights)\n",
    "    \n",
    "        res_probs = clf_1_probs * weights + clf_2_probs * (1 - weights)\n",
    "        y_pred.append(np.argmax(res_probs))\n",
    "        \n",
    "    return f1_score(y, y_pred, average='macro')"
   ]
  },
  {
   "cell_type": "code",
   "execution_count": 53,
   "id": "2cb99df2",
   "metadata": {},
   "outputs": [
    {
     "name": "stdout",
     "output_type": "stream",
     "text": [
      "done\n",
      "done\n",
      "done\n",
      "done\n",
      "done\n"
     ]
    }
   ],
   "source": [
    "skf = StratifiedKFold(n_splits = 5, shuffle=True)\n",
    "weights_info = [{'weights': _w, 'test_scores': [], 'val_scores': []} for _w in all_weights]\n",
    "\n",
    "X_test_info = np.array(X_test_info)\n",
    "y_test_info = np.array(y_test_info)\n",
    "for train_index, test_index in skf.split(X_test_info, y_test_info):\n",
    "    _X_train_info, _X_test_info = X_test_info[train_index], X_test_info[test_index]\n",
    "    y_train, y_test = y_test_info[train_index], y_test_info[test_index]\n",
    "    X_train_probs = [[test_data[_id]['probabilities'], test_data[_id]['clf_probabilities']] \n",
    "                     for _id in _X_train_info]\n",
    "    X_test_probs = [[test_data[_id]['probabilities'], test_data[_id]['clf_probabilities']] \n",
    "                     for _id in _X_test_info]\n",
    "    \n",
    "    for cur_weights in weights_info:\n",
    "        cur_weights['test_scores'].append(compute_score(X_train_probs, y_train, cur_weights['weights']))\n",
    "        cur_weights['val_scores'].append(compute_score(X_test_probs, y_test, cur_weights['weights']))\n",
    "        \n",
    "    print(\"done\")"
   ]
  },
  {
   "cell_type": "code",
   "execution_count": 55,
   "id": "b2b5bfcc",
   "metadata": {},
   "outputs": [],
   "source": [
    "for cur_weight in weights_info:\n",
    "    cur_weight['test_f1'] = np.mean(cur_weight['test_scores'])\n",
    "    cur_weight['val_f1'] = np.mean(cur_weight['val_scores'])"
   ]
  },
  {
   "cell_type": "code",
   "execution_count": 61,
   "id": "499e965b",
   "metadata": {},
   "outputs": [],
   "source": [
    "best_weights = sorted(weights_info, key=lambda _info: _info['test_f1'], reverse=True) "
   ]
  },
  {
   "cell_type": "code",
   "execution_count": 64,
   "id": "73249d2b",
   "metadata": {},
   "outputs": [
    {
     "data": {
      "text/plain": [
       "[{'weights': [1.0, 1.0, 1.0, 0.0, 0.5, 0.5],\n",
       "  'test_scores': [0.7674327601410934,\n",
       "   0.7411269812336164,\n",
       "   0.7591717757155104,\n",
       "   0.7495047384203962,\n",
       "   0.7857261895099391],\n",
       "  'val_scores': [0.741111111111111,\n",
       "   0.8044011544011545,\n",
       "   0.7810457516339869,\n",
       "   0.8303530662663791,\n",
       "   0.630357142857143],\n",
       "  'test_f1': 0.7605924890041111,\n",
       "  'val_f1': 0.7574536452539549},\n",
       " {'weights': [1.0, 1.0, 1.0, 0.0, 0.5, 0.75],\n",
       "  'test_scores': [0.7674327601410934,\n",
       "   0.7411269812336164,\n",
       "   0.7591717757155104,\n",
       "   0.7495047384203962,\n",
       "   0.7857261895099391],\n",
       "  'val_scores': [0.741111111111111,\n",
       "   0.8044011544011545,\n",
       "   0.7810457516339869,\n",
       "   0.8303530662663791,\n",
       "   0.630357142857143],\n",
       "  'test_f1': 0.7605924890041111,\n",
       "  'val_f1': 0.7574536452539549},\n",
       " {'weights': [1.0, 1.0, 1.0, 0.0, 0.5, 1.0],\n",
       "  'test_scores': [0.7674327601410934,\n",
       "   0.7411269812336164,\n",
       "   0.7591717757155104,\n",
       "   0.7495047384203962,\n",
       "   0.7857261895099391],\n",
       "  'val_scores': [0.741111111111111,\n",
       "   0.8044011544011545,\n",
       "   0.7810457516339869,\n",
       "   0.8303530662663791,\n",
       "   0.630357142857143],\n",
       "  'test_f1': 0.7605924890041111,\n",
       "  'val_f1': 0.7574536452539549},\n",
       " {'weights': [1.0, 1.0, 1.0, 0.0, 0.75, 0.5],\n",
       "  'test_scores': [0.7674327601410934,\n",
       "   0.7411269812336164,\n",
       "   0.7591717757155104,\n",
       "   0.7495047384203962,\n",
       "   0.7857261895099391],\n",
       "  'val_scores': [0.741111111111111,\n",
       "   0.8044011544011545,\n",
       "   0.7810457516339869,\n",
       "   0.8303530662663791,\n",
       "   0.630357142857143],\n",
       "  'test_f1': 0.7605924890041111,\n",
       "  'val_f1': 0.7574536452539549},\n",
       " {'weights': [1.0, 1.0, 1.0, 0.0, 0.75, 0.75],\n",
       "  'test_scores': [0.7674327601410934,\n",
       "   0.7411269812336164,\n",
       "   0.7591717757155104,\n",
       "   0.7495047384203962,\n",
       "   0.7857261895099391],\n",
       "  'val_scores': [0.741111111111111,\n",
       "   0.8044011544011545,\n",
       "   0.7810457516339869,\n",
       "   0.8303530662663791,\n",
       "   0.630357142857143],\n",
       "  'test_f1': 0.7605924890041111,\n",
       "  'val_f1': 0.7574536452539549},\n",
       " {'weights': [1.0, 1.0, 1.0, 0.0, 0.75, 1.0],\n",
       "  'test_scores': [0.7674327601410934,\n",
       "   0.7411269812336164,\n",
       "   0.7591717757155104,\n",
       "   0.7495047384203962,\n",
       "   0.7857261895099391],\n",
       "  'val_scores': [0.741111111111111,\n",
       "   0.8044011544011545,\n",
       "   0.7810457516339869,\n",
       "   0.8303530662663791,\n",
       "   0.630357142857143],\n",
       "  'test_f1': 0.7605924890041111,\n",
       "  'val_f1': 0.7574536452539549},\n",
       " {'weights': [1.0, 1.0, 1.0, 0.0, 1.0, 0.5],\n",
       "  'test_scores': [0.7674327601410934,\n",
       "   0.7411269812336164,\n",
       "   0.7591717757155104,\n",
       "   0.7495047384203962,\n",
       "   0.7857261895099391],\n",
       "  'val_scores': [0.741111111111111,\n",
       "   0.8044011544011545,\n",
       "   0.7810457516339869,\n",
       "   0.8303530662663791,\n",
       "   0.630357142857143],\n",
       "  'test_f1': 0.7605924890041111,\n",
       "  'val_f1': 0.7574536452539549},\n",
       " {'weights': [1.0, 1.0, 1.0, 0.0, 1.0, 0.75],\n",
       "  'test_scores': [0.7674327601410934,\n",
       "   0.7411269812336164,\n",
       "   0.7591717757155104,\n",
       "   0.7495047384203962,\n",
       "   0.7857261895099391],\n",
       "  'val_scores': [0.741111111111111,\n",
       "   0.8044011544011545,\n",
       "   0.7810457516339869,\n",
       "   0.8303530662663791,\n",
       "   0.630357142857143],\n",
       "  'test_f1': 0.7605924890041111,\n",
       "  'val_f1': 0.7574536452539549},\n",
       " {'weights': [1.0, 1.0, 1.0, 0.0, 1.0, 1.0],\n",
       "  'test_scores': [0.7674327601410934,\n",
       "   0.7411269812336164,\n",
       "   0.7591717757155104,\n",
       "   0.7495047384203962,\n",
       "   0.7857261895099391],\n",
       "  'val_scores': [0.741111111111111,\n",
       "   0.8044011544011545,\n",
       "   0.7810457516339869,\n",
       "   0.8303530662663791,\n",
       "   0.630357142857143],\n",
       "  'test_f1': 0.7605924890041111,\n",
       "  'val_f1': 0.7574536452539549},\n",
       " {'weights': [1.0, 0.75, 0.5, 0.5, 0.75, 0.75],\n",
       "  'test_scores': [0.761799091229645,\n",
       "   0.7342697208894392,\n",
       "   0.7501865748973863,\n",
       "   0.7399009852697298,\n",
       "   0.7904410314322012],\n",
       "  'val_scores': [0.741111111111111,\n",
       "   0.8094820384294069,\n",
       "   0.7810457516339869,\n",
       "   0.8450292397660819,\n",
       "   0.6290992812219227],\n",
       "  'test_f1': 0.7553194807436803,\n",
       "  'val_f1': 0.7611534844325019}]"
      ]
     },
     "execution_count": 64,
     "metadata": {},
     "output_type": "execute_result"
    }
   ],
   "source": [
    "best_weights[:10]"
   ]
  },
  {
   "cell_type": "code",
   "execution_count": 65,
   "id": "ecc2506f",
   "metadata": {},
   "outputs": [
    {
     "data": {
      "text/plain": [
       "{'weights': [1.0, 1.0, 1.0, 1.0, 1.0, 1.0],\n",
       " 'test_scores': [0.7530961230345032,\n",
       "  0.7271520146520146,\n",
       "  0.7404309874705537,\n",
       "  0.7388431358200674,\n",
       "  0.7803058776253117],\n",
       " 'val_scores': [0.741111111111111,\n",
       "  0.8044011544011545,\n",
       "  0.7810457516339869,\n",
       "  0.8052688911822039,\n",
       "  0.6290992812219227],\n",
       " 'test_f1': 0.7479656277204901,\n",
       " 'val_f1': 0.7521852379100757}"
      ]
     },
     "execution_count": 65,
     "metadata": {},
     "output_type": "execute_result"
    }
   ],
   "source": [
    "weights_info[-1]"
   ]
  },
  {
   "cell_type": "code",
   "execution_count": null,
   "id": "c68b90b6",
   "metadata": {},
   "outputs": [],
   "source": []
  },
  {
   "cell_type": "code",
   "execution_count": null,
   "id": "da11505e",
   "metadata": {},
   "outputs": [],
   "source": []
  },
  {
   "cell_type": "code",
   "execution_count": null,
   "id": "f3ef0b0d",
   "metadata": {},
   "outputs": [],
   "source": []
  }
 ],
 "metadata": {
  "kernelspec": {
   "display_name": "Python 3 (ipykernel)",
   "language": "python",
   "name": "python3"
  },
  "language_info": {
   "codemirror_mode": {
    "name": "ipython",
    "version": 3
   },
   "file_extension": ".py",
   "mimetype": "text/x-python",
   "name": "python",
   "nbconvert_exporter": "python",
   "pygments_lexer": "ipython3",
   "version": "3.8.10"
  }
 },
 "nbformat": 4,
 "nbformat_minor": 5
}
